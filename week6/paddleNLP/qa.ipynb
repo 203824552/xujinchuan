{
 "cells": [
  {
   "cell_type": "code",
   "execution_count": 5,
   "metadata": {
    "execution": {
     "iopub.execute_input": "2022-11-14T02:35:15.063764Z",
     "iopub.status.busy": "2022-11-14T02:35:15.063009Z",
     "iopub.status.idle": "2022-11-14T02:35:18.147279Z",
     "shell.execute_reply": "2022-11-14T02:35:18.146262Z",
     "shell.execute_reply.started": "2022-11-14T02:35:15.063725Z"
    },
    "scrolled": true
   },
   "outputs": [
    {
     "name": "stdout",
     "output_type": "stream",
     "text": [
      "Looking in indexes: https://pypi.tuna.tsinghua.edu.cn/simple\r\n",
      "Requirement already satisfied: paddlenlp in /opt/conda/envs/python35-paddle120-env/lib/python3.7/site-packages (2.4.2)\r\n",
      "Requirement already satisfied: seqeval in /opt/conda/envs/python35-paddle120-env/lib/python3.7/site-packages (from paddlenlp) (1.2.2)\r\n",
      "Requirement already satisfied: paddle2onnx in /opt/conda/envs/python35-paddle120-env/lib/python3.7/site-packages (from paddlenlp) (1.0.0)\r\n",
      "Requirement already satisfied: paddlefsl in /opt/conda/envs/python35-paddle120-env/lib/python3.7/site-packages (from paddlenlp) (1.1.0)\r\n",
      "Requirement already satisfied: dill<0.3.5 in /opt/conda/envs/python35-paddle120-env/lib/python3.7/site-packages (from paddlenlp) (0.3.3)\r\n",
      "Requirement already satisfied: visualdl in /opt/conda/envs/python35-paddle120-env/lib/python3.7/site-packages (from paddlenlp) (2.4.0)\r\n",
      "Requirement already satisfied: multiprocess<=0.70.12.2 in /opt/conda/envs/python35-paddle120-env/lib/python3.7/site-packages (from paddlenlp) (0.70.11.1)\r\n",
      "Requirement already satisfied: jieba in /opt/conda/envs/python35-paddle120-env/lib/python3.7/site-packages (from paddlenlp) (0.42.1)\r\n",
      "Requirement already satisfied: colorlog in /opt/conda/envs/python35-paddle120-env/lib/python3.7/site-packages (from paddlenlp) (4.1.0)\r\n",
      "Requirement already satisfied: tqdm in /opt/conda/envs/python35-paddle120-env/lib/python3.7/site-packages (from paddlenlp) (4.64.1)\r\n",
      "Requirement already satisfied: colorama in /opt/conda/envs/python35-paddle120-env/lib/python3.7/site-packages (from paddlenlp) (0.4.4)\r\n",
      "Requirement already satisfied: protobuf<=3.20.0,>=3.1.0 in /opt/conda/envs/python35-paddle120-env/lib/python3.7/site-packages (from paddlenlp) (3.20.0)\r\n",
      "Requirement already satisfied: sentencepiece in /opt/conda/envs/python35-paddle120-env/lib/python3.7/site-packages (from paddlenlp) (0.1.96)\r\n",
      "Requirement already satisfied: datasets>=2.0.0 in /opt/conda/envs/python35-paddle120-env/lib/python3.7/site-packages (from paddlenlp) (2.6.1)\r\n",
      "Requirement already satisfied: fsspec[http]>=2021.11.1 in /opt/conda/envs/python35-paddle120-env/lib/python3.7/site-packages (from datasets>=2.0.0->paddlenlp) (2022.11.0)\r\n",
      "Requirement already satisfied: pyyaml>=5.1 in /opt/conda/envs/python35-paddle120-env/lib/python3.7/site-packages (from datasets>=2.0.0->paddlenlp) (5.1.2)\r\n",
      "Requirement already satisfied: importlib-metadata in /opt/conda/envs/python35-paddle120-env/lib/python3.7/site-packages (from datasets>=2.0.0->paddlenlp) (4.2.0)\r\n",
      "Requirement already satisfied: xxhash in /opt/conda/envs/python35-paddle120-env/lib/python3.7/site-packages (from datasets>=2.0.0->paddlenlp) (3.1.0)\r\n",
      "Requirement already satisfied: requests>=2.19.0 in /opt/conda/envs/python35-paddle120-env/lib/python3.7/site-packages (from datasets>=2.0.0->paddlenlp) (2.24.0)\r\n",
      "Requirement already satisfied: pyarrow>=6.0.0 in /opt/conda/envs/python35-paddle120-env/lib/python3.7/site-packages (from datasets>=2.0.0->paddlenlp) (10.0.0)\r\n",
      "Requirement already satisfied: huggingface-hub<1.0.0,>=0.2.0 in /opt/conda/envs/python35-paddle120-env/lib/python3.7/site-packages (from datasets>=2.0.0->paddlenlp) (0.10.1)\r\n",
      "Requirement already satisfied: responses<0.19 in /opt/conda/envs/python35-paddle120-env/lib/python3.7/site-packages (from datasets>=2.0.0->paddlenlp) (0.18.0)\r\n",
      "Requirement already satisfied: pandas in /opt/conda/envs/python35-paddle120-env/lib/python3.7/site-packages (from datasets>=2.0.0->paddlenlp) (1.1.5)\r\n",
      "Requirement already satisfied: packaging in /opt/conda/envs/python35-paddle120-env/lib/python3.7/site-packages (from datasets>=2.0.0->paddlenlp) (21.3)\r\n",
      "Requirement already satisfied: aiohttp in /opt/conda/envs/python35-paddle120-env/lib/python3.7/site-packages (from datasets>=2.0.0->paddlenlp) (3.8.3)\r\n",
      "Requirement already satisfied: numpy>=1.17 in /opt/conda/envs/python35-paddle120-env/lib/python3.7/site-packages (from datasets>=2.0.0->paddlenlp) (1.19.5)\r\n",
      "Requirement already satisfied: scikit-learn>=0.21.3 in /opt/conda/envs/python35-paddle120-env/lib/python3.7/site-packages (from seqeval->paddlenlp) (0.24.2)\r\n",
      "Requirement already satisfied: Flask-Babel>=1.0.0 in /opt/conda/envs/python35-paddle120-env/lib/python3.7/site-packages (from visualdl->paddlenlp) (1.0.0)\r\n",
      "Requirement already satisfied: matplotlib in /opt/conda/envs/python35-paddle120-env/lib/python3.7/site-packages (from visualdl->paddlenlp) (2.2.3)\r\n",
      "Requirement already satisfied: Pillow>=7.0.0 in /opt/conda/envs/python35-paddle120-env/lib/python3.7/site-packages (from visualdl->paddlenlp) (8.2.0)\r\n",
      "Requirement already satisfied: six>=1.14.0 in /opt/conda/envs/python35-paddle120-env/lib/python3.7/site-packages (from visualdl->paddlenlp) (1.16.0)\r\n",
      "Requirement already satisfied: bce-python-sdk in /opt/conda/envs/python35-paddle120-env/lib/python3.7/site-packages (from visualdl->paddlenlp) (0.8.53)\r\n",
      "Requirement already satisfied: flask>=1.1.1 in /opt/conda/envs/python35-paddle120-env/lib/python3.7/site-packages (from visualdl->paddlenlp) (1.1.1)\r\n",
      "Requirement already satisfied: Werkzeug>=0.15 in /opt/conda/envs/python35-paddle120-env/lib/python3.7/site-packages (from flask>=1.1.1->visualdl->paddlenlp) (0.16.0)\r\n",
      "Requirement already satisfied: click>=5.1 in /opt/conda/envs/python35-paddle120-env/lib/python3.7/site-packages (from flask>=1.1.1->visualdl->paddlenlp) (7.0)\r\n",
      "Requirement already satisfied: itsdangerous>=0.24 in /opt/conda/envs/python35-paddle120-env/lib/python3.7/site-packages (from flask>=1.1.1->visualdl->paddlenlp) (1.1.0)\r\n",
      "Requirement already satisfied: Jinja2>=2.10.1 in /opt/conda/envs/python35-paddle120-env/lib/python3.7/site-packages (from flask>=1.1.1->visualdl->paddlenlp) (3.0.0)\r\n",
      "Requirement already satisfied: Babel>=2.3 in /opt/conda/envs/python35-paddle120-env/lib/python3.7/site-packages (from Flask-Babel>=1.0.0->visualdl->paddlenlp) (2.8.0)\r\n",
      "Requirement already satisfied: pytz in /opt/conda/envs/python35-paddle120-env/lib/python3.7/site-packages (from Flask-Babel>=1.0.0->visualdl->paddlenlp) (2019.3)\r\n",
      "Requirement already satisfied: aiosignal>=1.1.2 in /opt/conda/envs/python35-paddle120-env/lib/python3.7/site-packages (from aiohttp->datasets>=2.0.0->paddlenlp) (1.3.1)\r\n",
      "Requirement already satisfied: attrs>=17.3.0 in /opt/conda/envs/python35-paddle120-env/lib/python3.7/site-packages (from aiohttp->datasets>=2.0.0->paddlenlp) (22.1.0)\r\n",
      "Requirement already satisfied: asynctest==0.13.0 in /opt/conda/envs/python35-paddle120-env/lib/python3.7/site-packages (from aiohttp->datasets>=2.0.0->paddlenlp) (0.13.0)\r\n",
      "Requirement already satisfied: multidict<7.0,>=4.5 in /opt/conda/envs/python35-paddle120-env/lib/python3.7/site-packages (from aiohttp->datasets>=2.0.0->paddlenlp) (6.0.2)\r\n",
      "Requirement already satisfied: yarl<2.0,>=1.0 in /opt/conda/envs/python35-paddle120-env/lib/python3.7/site-packages (from aiohttp->datasets>=2.0.0->paddlenlp) (1.8.1)\r\n",
      "Requirement already satisfied: typing-extensions>=3.7.4 in /opt/conda/envs/python35-paddle120-env/lib/python3.7/site-packages (from aiohttp->datasets>=2.0.0->paddlenlp) (4.3.0)\r\n",
      "Requirement already satisfied: charset-normalizer<3.0,>=2.0 in /opt/conda/envs/python35-paddle120-env/lib/python3.7/site-packages (from aiohttp->datasets>=2.0.0->paddlenlp) (2.1.1)\r\n",
      "Requirement already satisfied: async-timeout<5.0,>=4.0.0a3 in /opt/conda/envs/python35-paddle120-env/lib/python3.7/site-packages (from aiohttp->datasets>=2.0.0->paddlenlp) (4.0.2)\r\n",
      "Requirement already satisfied: frozenlist>=1.1.1 in /opt/conda/envs/python35-paddle120-env/lib/python3.7/site-packages (from aiohttp->datasets>=2.0.0->paddlenlp) (1.3.3)\r\n",
      "Requirement already satisfied: filelock in /opt/conda/envs/python35-paddle120-env/lib/python3.7/site-packages (from huggingface-hub<1.0.0,>=0.2.0->datasets>=2.0.0->paddlenlp) (3.0.12)\r\n",
      "Requirement already satisfied: pyparsing!=3.0.5,>=2.0.2 in /opt/conda/envs/python35-paddle120-env/lib/python3.7/site-packages (from packaging->datasets>=2.0.0->paddlenlp) (3.0.9)\r\n",
      "Requirement already satisfied: chardet<4,>=3.0.2 in /opt/conda/envs/python35-paddle120-env/lib/python3.7/site-packages (from requests>=2.19.0->datasets>=2.0.0->paddlenlp) (3.0.4)\r\n",
      "Requirement already satisfied: certifi>=2017.4.17 in /opt/conda/envs/python35-paddle120-env/lib/python3.7/site-packages (from requests>=2.19.0->datasets>=2.0.0->paddlenlp) (2019.9.11)\r\n",
      "Requirement already satisfied: urllib3!=1.25.0,!=1.25.1,<1.26,>=1.21.1 in /opt/conda/envs/python35-paddle120-env/lib/python3.7/site-packages (from requests>=2.19.0->datasets>=2.0.0->paddlenlp) (1.25.11)\r\n",
      "Requirement already satisfied: idna<3,>=2.5 in /opt/conda/envs/python35-paddle120-env/lib/python3.7/site-packages (from requests>=2.19.0->datasets>=2.0.0->paddlenlp) (2.8)\r\n",
      "Requirement already satisfied: scipy>=0.19.1 in /opt/conda/envs/python35-paddle120-env/lib/python3.7/site-packages (from scikit-learn>=0.21.3->seqeval->paddlenlp) (1.6.3)\r\n",
      "Requirement already satisfied: joblib>=0.11 in /opt/conda/envs/python35-paddle120-env/lib/python3.7/site-packages (from scikit-learn>=0.21.3->seqeval->paddlenlp) (0.14.1)\r\n",
      "Requirement already satisfied: threadpoolctl>=2.0.0 in /opt/conda/envs/python35-paddle120-env/lib/python3.7/site-packages (from scikit-learn>=0.21.3->seqeval->paddlenlp) (2.1.0)\r\n",
      "Requirement already satisfied: pycryptodome>=3.8.0 in /opt/conda/envs/python35-paddle120-env/lib/python3.7/site-packages (from bce-python-sdk->visualdl->paddlenlp) (3.9.9)\r\n",
      "Requirement already satisfied: future>=0.6.0 in /opt/conda/envs/python35-paddle120-env/lib/python3.7/site-packages (from bce-python-sdk->visualdl->paddlenlp) (0.18.0)\r\n",
      "Requirement already satisfied: zipp>=0.5 in /opt/conda/envs/python35-paddle120-env/lib/python3.7/site-packages (from importlib-metadata->datasets>=2.0.0->paddlenlp) (3.8.1)\r\n",
      "Requirement already satisfied: python-dateutil>=2.1 in /opt/conda/envs/python35-paddle120-env/lib/python3.7/site-packages (from matplotlib->visualdl->paddlenlp) (2.8.2)\r\n",
      "Requirement already satisfied: kiwisolver>=1.0.1 in /opt/conda/envs/python35-paddle120-env/lib/python3.7/site-packages (from matplotlib->visualdl->paddlenlp) (1.1.0)\r\n",
      "Requirement already satisfied: cycler>=0.10 in /opt/conda/envs/python35-paddle120-env/lib/python3.7/site-packages (from matplotlib->visualdl->paddlenlp) (0.10.0)\r\n",
      "Requirement already satisfied: MarkupSafe>=2.0.0rc2 in /opt/conda/envs/python35-paddle120-env/lib/python3.7/site-packages (from Jinja2>=2.10.1->flask>=1.1.1->visualdl->paddlenlp) (2.0.1)\r\n",
      "Requirement already satisfied: setuptools in /opt/conda/envs/python35-paddle120-env/lib/python3.7/site-packages (from kiwisolver>=1.0.1->matplotlib->visualdl->paddlenlp) (56.2.0)\r\n",
      "\r\n",
      "\u001b[1m[\u001b[0m\u001b[34;49mnotice\u001b[0m\u001b[1;39;49m]\u001b[0m\u001b[39;49m A new release of pip available: \u001b[0m\u001b[31;49m22.1.2\u001b[0m\u001b[39;49m -> \u001b[0m\u001b[32;49m22.3.1\u001b[0m\r\n",
      "\u001b[1m[\u001b[0m\u001b[34;49mnotice\u001b[0m\u001b[1;39;49m]\u001b[0m\u001b[39;49m To update, run: \u001b[0m\u001b[32;49mpip install --upgrade pip\u001b[0m\r\n"
     ]
    }
   ],
   "source": [
    "# AI Studio平台默认安装了Paddle和PaddleNLP，并定期更新版本。 建议手动更新，保证使用最新版本\n",
    "# 安装最新版PaddleNLP，首次更新完以后，重启后方能生效\n",
    "!pip install --upgrade paddlenlp"
   ]
  },
  {
   "cell_type": "code",
   "execution_count": 2,
   "metadata": {
    "execution": {
     "iopub.execute_input": "2022-11-14T02:35:42.134621Z",
     "iopub.status.busy": "2022-11-14T02:35:42.133412Z",
     "iopub.status.idle": "2022-11-14T02:39:45.916454Z",
     "shell.execute_reply": "2022-11-14T02:39:45.915458Z",
     "shell.execute_reply.started": "2022-11-14T02:35:42.134580Z"
    },
    "scrolled": true,
    "tags": []
   },
   "outputs": [
    {
     "name": "stdout",
     "output_type": "stream",
     "text": [
      "Looking in indexes: https://pypi.tuna.tsinghua.edu.cn/simple\r\n",
      "Collecting paddle-pipelines==0.1.0\r\n",
      "  Downloading https://pypi.tuna.tsinghua.edu.cn/packages/7b/e8/68b95a1060c9849b858f47a35f0533c7de105eca7fb9ab16e313fbc62181/paddle_pipelines-0.1.0-py3-none-any.whl (191 kB)\r\n",
      "\u001b[2K     \u001b[90m━━━━━━━━━━━━━━━━━━━━━━━━━━━━━━━━━━━━━━━\u001b[0m \u001b[32m191.1/191.1 kB\u001b[0m \u001b[31m1.7 MB/s\u001b[0m eta \u001b[36m0:00:00\u001b[0ma \u001b[36m0:00:01\u001b[0m\r\n",
      "\u001b[?25hCollecting mmh3\r\n",
      "  Downloading https://pypi.tuna.tsinghua.edu.cn/packages/d9/46/0e568554c7f70ebc3de0c2b2effd3f7b25e66e0e4e0eacaeb7c9145949f2/mmh3-3.0.0-cp37-cp37m-manylinux2010_x86_64.whl (50 kB)\r\n",
      "\u001b[2K     \u001b[90m━━━━━━━━━━━━━━━━━━━━━━━━━━━━━━━━━━━━━━━━\u001b[0m \u001b[32m50.9/50.9 kB\u001b[0m \u001b[31m9.7 MB/s\u001b[0m eta \u001b[36m0:00:00\u001b[0m\r\n",
      "\u001b[?25hRequirement already satisfied: sqlalchemy<2,>=1.4.2 in /opt/conda/envs/python35-paddle120-env/lib/python3.7/site-packages (from paddle-pipelines==0.1.0) (1.4.41)\r\n",
      "Collecting opencv-contrib-python-headless\r\n",
      "  Downloading https://pypi.tuna.tsinghua.edu.cn/packages/09/72/e292b78a336d07bea66426a5039b4d673a876b00b862cdc2e2b0904b2f3e/opencv_contrib_python_headless-4.6.0.66-cp36-abi3-manylinux_2_17_x86_64.manylinux2014_x86_64.whl (54.5 MB)\r\n",
      "\u001b[2K     \u001b[90m━━━━━━━━━━━━━━━━━━━━━━━━━━━━━━━━━━━━━━━\u001b[0m \u001b[32m54.5/54.5 MB\u001b[0m \u001b[31m460.8 kB/s\u001b[0m eta \u001b[36m0:00:00\u001b[0m00:01\u001b[0m00:03\u001b[0m\r\n",
      "\u001b[?25hCollecting st-annotated-text\r\n",
      "  Downloading https://pypi.tuna.tsinghua.edu.cn/packages/22/27/c7d2662773cf2c08321cbe539abe35a048f9ece32ecfdee5560e987f76d9/st-annotated-text-3.0.0.tar.gz (7.5 kB)\r\n",
      "  Preparing metadata (setup.py) ... \u001b[?25ldone\r\n",
      "\u001b[?25hRequirement already satisfied: numba in /opt/conda/envs/python35-paddle120-env/lib/python3.7/site-packages (from paddle-pipelines==0.1.0) (0.48.0)\r\n",
      "Collecting paddleocr\r\n",
      "  Downloading https://pypi.tuna.tsinghua.edu.cn/packages/25/f2/fc1cfceb4045043fcbd8bf4faf8b6e8009184cbec6ccc4a0d184726e3d8e/paddleocr-2.6.1.0-py3-none-any.whl (409 kB)\r\n",
      "\u001b[2K     \u001b[90m━━━━━━━━━━━━━━━━━━━━━━━━━━━━━━━━━━━━━\u001b[0m \u001b[32m409.6/409.6 kB\u001b[0m \u001b[31m704.8 kB/s\u001b[0m eta \u001b[36m0:00:00\u001b[0m00:01\u001b[0m00:01\u001b[0m\r\n",
      "\u001b[?25hCollecting uvicorn\r\n",
      "  Downloading https://pypi.tuna.tsinghua.edu.cn/packages/2b/3f/e3a8b7d42f058e0d50e76b8d41cc18a5d1f989feb17c882e1c61e7403f52/uvicorn-0.19.0-py3-none-any.whl (56 kB)\r\n",
      "\u001b[2K     \u001b[90m━━━━━━━━━━━━━━━━━━━━━━━━━━━━━━━━━━━━━━━\u001b[0m \u001b[32m56.6/56.6 kB\u001b[0m \u001b[31m749.1 kB/s\u001b[0m eta \u001b[36m0:00:00\u001b[0m \u001b[36m0:00:01\u001b[0m\r\n",
      "\u001b[?25hCollecting elasticsearch<=7.10,>=7.7\r\n",
      "  Downloading https://pypi.tuna.tsinghua.edu.cn/packages/14/ba/f950bdd9164fb2bbbe5093700162234fbe61f446fe2300a8993761c132ca/elasticsearch-7.10.0-py2.py3-none-any.whl (321 kB)\r\n",
      "\u001b[2K     \u001b[90m━━━━━━━━━━━━━━━━━━━━━━━━━━━━━━━━━━━━━\u001b[0m \u001b[32m321.8/321.8 kB\u001b[0m \u001b[31m779.3 kB/s\u001b[0m eta \u001b[36m0:00:00\u001b[0ma \u001b[36m0:00:01\u001b[0m\r\n",
      "\u001b[?25hRequirement already satisfied: requests in /opt/conda/envs/python35-paddle120-env/lib/python3.7/site-packages (from paddle-pipelines==0.1.0) (2.24.0)\r\n",
      "Collecting fastapi\r\n",
      "  Downloading https://pypi.tuna.tsinghua.edu.cn/packages/8c/f5/68a7a099ae3674e85e2de11d3859ebffd7fe32a8cda0d11bd4d43f32437b/fastapi-0.87.0-py3-none-any.whl (55 kB)\r\n",
      "\u001b[2K     \u001b[90m━━━━━━━━━━━━━━━━━━━━━━━━━━━━━━━━━━━━━━━━\u001b[0m \u001b[32m55.5/55.5 kB\u001b[0m \u001b[31m62.0 kB/s\u001b[0m eta \u001b[36m0:00:00\u001b[0ma \u001b[36m0:00:01\u001b[0m\r\n",
      "\u001b[?25hCollecting streamlit==1.9.0\r\n",
      "  Downloading https://pypi.tuna.tsinghua.edu.cn/packages/25/58/15f9d7ffbb28402578bc35e74a245d1f781e13522de024e6386134af0c6a/streamlit-1.9.0-py2.py3-none-any.whl (10.1 MB)\r\n",
      "\u001b[2K     \u001b[90m━━━━━━━━━━━━━━━━━━━━━━━━━━━━━━━━━━━━━━━\u001b[0m \u001b[32m10.1/10.1 MB\u001b[0m \u001b[31m711.0 kB/s\u001b[0m eta \u001b[36m0:00:00\u001b[0m00:01\u001b[0m00:01\u001b[0m\r\n",
      "\u001b[?25hCollecting pdfplumber\r\n",
      "  Downloading https://pypi.tuna.tsinghua.edu.cn/packages/d5/67/7db21eddb909b1e84f1721ea54cd1b517af6f3f8f1a3c85f6480ddaa932c/pdfplumber-0.7.5-py3-none-any.whl (40 kB)\r\n",
      "\u001b[2K     \u001b[90m━━━━━━━━━━━━━━━━━━━━━━━━━━━━━━━━━━━━━━━━\u001b[0m \u001b[32m40.5/40.5 kB\u001b[0m \u001b[31m1.0 MB/s\u001b[0m eta \u001b[36m0:00:00\u001b[0m\r\n",
      "\u001b[?25hRequirement already satisfied: more-itertools in /opt/conda/envs/python35-paddle120-env/lib/python3.7/site-packages (from paddle-pipelines==0.1.0) (7.2.0)\r\n",
      "Collecting sqlalchemy-utils\r\n",
      "  Downloading https://pypi.tuna.tsinghua.edu.cn/packages/e1/90/6ff1829b55cf752994be76bdf5f718db053dcb8d738f9df5b622207a4ab8/SQLAlchemy_Utils-0.38.3-py3-none-any.whl (100 kB)\r\n",
      "\u001b[2K     \u001b[90m━━━━━━━━━━━━━━━━━━━━━━━━━━━━━━━━━━━━━\u001b[0m \u001b[32m100.3/100.3 kB\u001b[0m \u001b[31m737.1 kB/s\u001b[0m eta \u001b[36m0:00:00\u001b[0ma \u001b[36m0:00:01\u001b[0m\r\n",
      "\u001b[?25hRequirement already satisfied: nltk in /opt/conda/envs/python35-paddle120-env/lib/python3.7/site-packages (from paddle-pipelines==0.1.0) (3.4.5)\r\n",
      "Requirement already satisfied: markdown in /opt/conda/envs/python35-paddle120-env/lib/python3.7/site-packages (from paddle-pipelines==0.1.0) (3.1.1)\r\n",
      "Collecting python-multipart\r\n",
      "  Downloading https://pypi.tuna.tsinghua.edu.cn/packages/46/40/a933ac570bf7aad12a298fc53458115cc74053474a72fbb8201d7dc06d3d/python-multipart-0.0.5.tar.gz (32 kB)\r\n",
      "  Preparing metadata (setup.py) ... \u001b[?25ldone\r\n",
      "\u001b[?25hCollecting langdetect\r\n",
      "  Downloading https://pypi.tuna.tsinghua.edu.cn/packages/0e/72/a3add0e4eec4eb9e2569554f7c70f4a3c27712f40e3284d483e88094cc0e/langdetect-1.0.9.tar.gz (981 kB)\r\n",
      "\u001b[2K     \u001b[90m━━━━━━━━━━━━━━━━━━━━━━━━━━━━━━━━━━━━━\u001b[0m \u001b[32m981.5/981.5 kB\u001b[0m \u001b[31m888.3 kB/s\u001b[0m eta \u001b[36m0:00:00\u001b[0ma \u001b[36m0:00:01\u001b[0m\r\n",
      "\u001b[?25h  Preparing metadata (setup.py) ... \u001b[?25ldone\r\n",
      "\u001b[?25hCollecting pydantic\r\n",
      "  Downloading https://pypi.tuna.tsinghua.edu.cn/packages/22/53/196c9a5752e30d682e493d7c00ea0a02377446578e577ae5e085010dc0bd/pydantic-1.10.2-cp37-cp37m-manylinux_2_17_x86_64.manylinux2014_x86_64.whl (11.8 MB)\r\n",
      "\u001b[2K     \u001b[90m━━━━━━━━━━━━━━━━━━━━━━━━━━━━━━━━━━━━━━━━\u001b[0m \u001b[32m11.8/11.8 MB\u001b[0m \u001b[31m1.0 MB/s\u001b[0m eta \u001b[36m0:00:00\u001b[0m00:01\u001b[0m00:01\u001b[0mm\r\n",
      "\u001b[?25hRequirement already satisfied: paddlenlp in /opt/conda/envs/python35-paddle120-env/lib/python3.7/site-packages (from paddle-pipelines==0.1.0) (2.4.2)\r\n",
      "Collecting faiss-cpu>=1.7.2\r\n",
      "  Downloading https://pypi.tuna.tsinghua.edu.cn/packages/1c/7e/b4a64a3216eb7471fd179781a9d60bfa95f311bdafb3752802bc6429d3f5/faiss_cpu-1.7.2-cp37-cp37m-manylinux_2_17_x86_64.manylinux2014_x86_64.whl (8.6 MB)\r\n",
      "\u001b[2K     \u001b[90m━━━━━━━━━━━━━━━━━━━━━━━━━━━━━━━━━━━━━━━━\u001b[0m \u001b[32m8.6/8.6 MB\u001b[0m \u001b[31m1.8 MB/s\u001b[0m eta \u001b[36m0:00:00\u001b[0m00:01\u001b[0m00:01\u001b[0m0m\r\n",
      "\u001b[?25hCollecting opencv-python>=4.4\r\n",
      "  Downloading https://pypi.tuna.tsinghua.edu.cn/packages/af/bf/8d189a5c43460f6b5c8eb81ead8732e94b9f73ef8d9abba9e8f5a61a6531/opencv_python-4.6.0.66-cp36-abi3-manylinux_2_17_x86_64.manylinux2014_x86_64.whl (60.9 MB)\r\n",
      "\u001b[2K     \u001b[90m━━━━━━━━━━━━━━━━━━━━━━━━━━━━━━━━━━━━━━━━\u001b[0m \u001b[32m60.9/60.9 MB\u001b[0m \u001b[31m2.0 MB/s\u001b[0m eta \u001b[36m0:00:00\u001b[0m00:01\u001b[0m00:01\u001b[0m\r\n",
      "\u001b[?25hCollecting python-docx\r\n",
      "  Downloading https://pypi.tuna.tsinghua.edu.cn/packages/8b/a0/52729ce4aa026f31b74cc877be1d11e4ddeaa361dc7aebec148171644b33/python-docx-0.8.11.tar.gz (5.6 MB)\r\n",
      "\u001b[2K     \u001b[90m━━━━━━━━━━━━━━━━━━━━━━━━━━━━━━━━━━━━━━━━\u001b[0m \u001b[32m5.6/5.6 MB\u001b[0m \u001b[31m1.9 MB/s\u001b[0m eta \u001b[36m0:00:00\u001b[0m00:01\u001b[0m00:01\u001b[0m\r\n",
      "\u001b[?25h  Preparing metadata (setup.py) ... \u001b[?25ldone\r\n",
      "\u001b[?25hRequirement already satisfied: toml in /opt/conda/envs/python35-paddle120-env/lib/python3.7/site-packages (from streamlit==1.9.0->paddle-pipelines==0.1.0) (0.10.0)\r\n",
      "Requirement already satisfied: importlib-metadata>=1.4 in /opt/conda/envs/python35-paddle120-env/lib/python3.7/site-packages (from streamlit==1.9.0->paddle-pipelines==0.1.0) (4.2.0)\r\n",
      "Collecting pympler>=0.9\r\n",
      "  Downloading https://pypi.tuna.tsinghua.edu.cn/packages/2c/42/41e1469ed0b37b9c8532cb8074bea179f7d85ee7e82a59b5b6c289ed6045/Pympler-1.0.1-py3-none-any.whl (164 kB)\r\n",
      "\u001b[2K     \u001b[90m━━━━━━━━━━━━━━━━━━━━━━━━━━━━━━━━━━━━━━━\u001b[0m \u001b[32m164.8/164.8 kB\u001b[0m \u001b[31m3.5 MB/s\u001b[0m eta \u001b[36m0:00:00\u001b[0ma \u001b[36m0:00:01\u001b[0m\r\n",
      "\u001b[?25hRequirement already satisfied: typing-extensions in /opt/conda/envs/python35-paddle120-env/lib/python3.7/site-packages (from streamlit==1.9.0->paddle-pipelines==0.1.0) (4.3.0)\r\n",
      "Collecting tzlocal\r\n",
      "  Downloading https://pypi.tuna.tsinghua.edu.cn/packages/31/b7/3bc2c1868f27677139b772e4fde95265b93151912fd90eb874827943bfcf/tzlocal-4.2-py3-none-any.whl (19 kB)\r\n",
      "Requirement already satisfied: protobuf!=3.11,>=3.6.0 in /opt/conda/envs/python35-paddle120-env/lib/python3.7/site-packages (from streamlit==1.9.0->paddle-pipelines==0.1.0) (3.20.0)\r\n",
      "Requirement already satisfied: attrs in /opt/conda/envs/python35-paddle120-env/lib/python3.7/site-packages (from streamlit==1.9.0->paddle-pipelines==0.1.0) (22.1.0)\r\n",
      "Requirement already satisfied: click<8.1,>=7.0 in /opt/conda/envs/python35-paddle120-env/lib/python3.7/site-packages (from streamlit==1.9.0->paddle-pipelines==0.1.0) (7.0)\r\n",
      "Requirement already satisfied: tornado>=5.0 in /opt/conda/envs/python35-paddle120-env/lib/python3.7/site-packages (from streamlit==1.9.0->paddle-pipelines==0.1.0) (6.2)\r\n",
      "Requirement already satisfied: packaging in /opt/conda/envs/python35-paddle120-env/lib/python3.7/site-packages (from streamlit==1.9.0->paddle-pipelines==0.1.0) (21.3)\r\n",
      "Requirement already satisfied: numpy in /opt/conda/envs/python35-paddle120-env/lib/python3.7/site-packages (from streamlit==1.9.0->paddle-pipelines==0.1.0) (1.19.5)\r\n",
      "Collecting validators\r\n",
      "  Downloading https://pypi.tuna.tsinghua.edu.cn/packages/95/14/ed0af6865d378cfc3c504aed0d278a890cbefb2f1934bf2dbe92ecf9d6b1/validators-0.20.0.tar.gz (30 kB)\r\n",
      "  Preparing metadata (setup.py) ... \u001b[?25ldone\r\n",
      "\u001b[?25hCollecting semver\r\n",
      "  Downloading https://pypi.tuna.tsinghua.edu.cn/packages/0b/70/b84f9944a03964a88031ef6ac219b6c91e8ba2f373362329d8770ef36f02/semver-2.13.0-py2.py3-none-any.whl (12 kB)\r\n",
      "Collecting pydeck>=0.1.dev5\r\n",
      "  Downloading https://pypi.tuna.tsinghua.edu.cn/packages/ac/1e/676ed6c028bfd39d6c7c75abd57bc482f7eaa813f3faa715d80431732a43/pydeck-0.8.0-py2.py3-none-any.whl (4.7 MB)\r\n",
      "\u001b[2K     \u001b[90m━━━━━━━━━━━━━━━━━━━━━━━━━━━━━━━━━━━━━━━━\u001b[0m \u001b[32m4.7/4.7 MB\u001b[0m \u001b[31m1.4 MB/s\u001b[0m eta \u001b[36m0:00:00\u001b[0m00:01\u001b[0m00:01\u001b[0m\r\n",
      "\u001b[?25hCollecting altair>=3.2.0\r\n",
      "  Downloading https://pypi.tuna.tsinghua.edu.cn/packages/0a/fb/56aaac0c69d106e380ff868cd5bb6cccacf2b8917a8527532bc89804a52e/altair-4.2.0-py3-none-any.whl (812 kB)\r\n",
      "\u001b[2K     \u001b[90m━━━━━━━━━━━━━━━━━━━━━━━━━━━━━━━━━━━━━\u001b[0m \u001b[32m812.8/812.8 kB\u001b[0m \u001b[31m997.1 kB/s\u001b[0m eta \u001b[36m0:00:00\u001b[0ma \u001b[36m0:00:01\u001b[0m\r\n",
      "\u001b[?25hCollecting blinker\r\n",
      "  Downloading https://pypi.tuna.tsinghua.edu.cn/packages/30/41/caa5da2dbe6d26029dfe11d31dfa8132b4d6d30b6d6b61a24824075a5f06/blinker-1.5-py2.py3-none-any.whl (12 kB)\r\n",
      "Requirement already satisfied: gitpython!=3.1.19 in /opt/conda/envs/python35-paddle120-env/lib/python3.7/site-packages (from streamlit==1.9.0->paddle-pipelines==0.1.0) (3.1.14)\r\n",
      "Collecting watchdog\r\n",
      "  Downloading https://pypi.tuna.tsinghua.edu.cn/packages/ff/e0/dad09238e32d161e332c2e94b367d2aaa5f2ffe3e240b49b70473979fd61/watchdog-2.1.9-py3-none-manylinux2014_x86_64.whl (78 kB)\r\n",
      "\u001b[2K     \u001b[90m━━━━━━━━━━━━━━━━━━━━━━━━━━━━━━━━━━━━━━━━\u001b[0m \u001b[32m78.4/78.4 kB\u001b[0m \u001b[31m1.0 MB/s\u001b[0m eta \u001b[36m0:00:00\u001b[0ma \u001b[36m0:00:01\u001b[0m\r\n",
      "\u001b[?25hRequirement already satisfied: pillow>=6.2.0 in /opt/conda/envs/python35-paddle120-env/lib/python3.7/site-packages (from streamlit==1.9.0->paddle-pipelines==0.1.0) (8.2.0)\r\n",
      "Requirement already satisfied: python-dateutil in /opt/conda/envs/python35-paddle120-env/lib/python3.7/site-packages (from streamlit==1.9.0->paddle-pipelines==0.1.0) (2.8.2)\r\n",
      "Requirement already satisfied: pyarrow in /opt/conda/envs/python35-paddle120-env/lib/python3.7/site-packages (from streamlit==1.9.0->paddle-pipelines==0.1.0) (10.0.0)\r\n",
      "Requirement already satisfied: pandas>=0.21.0 in /opt/conda/envs/python35-paddle120-env/lib/python3.7/site-packages (from streamlit==1.9.0->paddle-pipelines==0.1.0) (1.1.5)\r\n",
      "Requirement already satisfied: cachetools>=4.0 in /opt/conda/envs/python35-paddle120-env/lib/python3.7/site-packages (from streamlit==1.9.0->paddle-pipelines==0.1.0) (4.0.0)\r\n",
      "Requirement already satisfied: urllib3<2,>=1.21.1 in /opt/conda/envs/python35-paddle120-env/lib/python3.7/site-packages (from elasticsearch<=7.10,>=7.7->paddle-pipelines==0.1.0) (1.25.11)\r\n",
      "Requirement already satisfied: certifi in /opt/conda/envs/python35-paddle120-env/lib/python3.7/site-packages (from elasticsearch<=7.10,>=7.7->paddle-pipelines==0.1.0) (2019.9.11)\r\n",
      "Requirement already satisfied: greenlet!=0.4.17 in /opt/conda/envs/python35-paddle120-env/lib/python3.7/site-packages (from sqlalchemy<2,>=1.4.2->paddle-pipelines==0.1.0) (1.1.3)\r\n",
      "Collecting starlette==0.21.0\r\n",
      "  Downloading https://pypi.tuna.tsinghua.edu.cn/packages/94/a3/777d1749aa0db3f9da12a8cc5f89fe01c95548909d012f0e419299c6d8a3/starlette-0.21.0-py3-none-any.whl (64 kB)\r\n",
      "\u001b[2K     \u001b[90m━━━━━━━━━━━━━━━━━━━━━━━━━━━━━━━━━━━━━━━━\u001b[0m \u001b[32m64.0/64.0 kB\u001b[0m \u001b[31m1.4 MB/s\u001b[0m eta \u001b[36m0:00:00\u001b[0ma \u001b[36m0:00:01\u001b[0m\r\n",
      "\u001b[?25hRequirement already satisfied: anyio<5,>=3.4.0 in /opt/conda/envs/python35-paddle120-env/lib/python3.7/site-packages (from starlette==0.21.0->fastapi->paddle-pipelines==0.1.0) (3.6.1)\r\n",
      "Requirement already satisfied: six in /opt/conda/envs/python35-paddle120-env/lib/python3.7/site-packages (from langdetect->paddle-pipelines==0.1.0) (1.16.0)\r\n",
      "Requirement already satisfied: setuptools>=36 in /opt/conda/envs/python35-paddle120-env/lib/python3.7/site-packages (from markdown->paddle-pipelines==0.1.0) (56.2.0)\r\n",
      "Requirement already satisfied: llvmlite<0.32.0,>=0.31.0dev0 in /opt/conda/envs/python35-paddle120-env/lib/python3.7/site-packages (from numba->paddle-pipelines==0.1.0) (0.31.0)\r\n",
      "Requirement already satisfied: datasets>=2.0.0 in /opt/conda/envs/python35-paddle120-env/lib/python3.7/site-packages (from paddlenlp->paddle-pipelines==0.1.0) (2.6.1)\r\n",
      "Requirement already satisfied: colorama in /opt/conda/envs/python35-paddle120-env/lib/python3.7/site-packages (from paddlenlp->paddle-pipelines==0.1.0) (0.4.4)\r\n",
      "Requirement already satisfied: sentencepiece in /opt/conda/envs/python35-paddle120-env/lib/python3.7/site-packages (from paddlenlp->paddle-pipelines==0.1.0) (0.1.96)\r\n",
      "Requirement already satisfied: multiprocess<=0.70.12.2 in /opt/conda/envs/python35-paddle120-env/lib/python3.7/site-packages (from paddlenlp->paddle-pipelines==0.1.0) (0.70.11.1)\r\n",
      "Requirement already satisfied: dill<0.3.5 in /opt/conda/envs/python35-paddle120-env/lib/python3.7/site-packages (from paddlenlp->paddle-pipelines==0.1.0) (0.3.3)\r\n",
      "Requirement already satisfied: tqdm in /opt/conda/envs/python35-paddle120-env/lib/python3.7/site-packages (from paddlenlp->paddle-pipelines==0.1.0) (4.64.1)\r\n",
      "Requirement already satisfied: paddle2onnx in /opt/conda/envs/python35-paddle120-env/lib/python3.7/site-packages (from paddlenlp->paddle-pipelines==0.1.0) (1.0.0)\r\n",
      "Requirement already satisfied: paddlefsl in /opt/conda/envs/python35-paddle120-env/lib/python3.7/site-packages (from paddlenlp->paddle-pipelines==0.1.0) (1.1.0)\r\n",
      "Requirement already satisfied: seqeval in /opt/conda/envs/python35-paddle120-env/lib/python3.7/site-packages (from paddlenlp->paddle-pipelines==0.1.0) (1.2.2)\r\n",
      "Requirement already satisfied: colorlog in /opt/conda/envs/python35-paddle120-env/lib/python3.7/site-packages (from paddlenlp->paddle-pipelines==0.1.0) (4.1.0)\r\n",
      "Requirement already satisfied: visualdl in /opt/conda/envs/python35-paddle120-env/lib/python3.7/site-packages (from paddlenlp->paddle-pipelines==0.1.0) (2.4.0)\r\n",
      "Requirement already satisfied: jieba in /opt/conda/envs/python35-paddle120-env/lib/python3.7/site-packages (from paddlenlp->paddle-pipelines==0.1.0) (0.42.1)\r\n",
      "Collecting Polygon3\r\n",
      "  Downloading https://pypi.tuna.tsinghua.edu.cn/packages/1f/26/eea4112be43c8b7345477ad9150d499303494f32fb5951cb0f6e9104045b/Polygon3-3.0.9.1.tar.gz (39 kB)\r\n",
      "  Preparing metadata (setup.py) ... \u001b[?25ldone\r\n",
      "\u001b[?25hRequirement already satisfied: beautifulsoup4 in /opt/conda/envs/python35-paddle120-env/lib/python3.7/site-packages (from paddleocr->paddle-pipelines==0.1.0) (4.11.1)\r\n",
      "Collecting fonttools>=4.24.0\r\n",
      "  Downloading https://pypi.tuna.tsinghua.edu.cn/packages/e3/d9/e9bae85e84737e76ebbcbea13607236da0c0699baed0ae4f1151b728a608/fonttools-4.38.0-py3-none-any.whl (965 kB)\r\n",
      "\u001b[2K     \u001b[90m━━━━━━━━━━━━━━━━━━━━━━━━━━━━━━━━━━━━━━━\u001b[0m \u001b[32m965.4/965.4 kB\u001b[0m \u001b[31m1.3 MB/s\u001b[0m eta \u001b[36m0:00:00\u001b[0ma \u001b[36m0:00:01\u001b[0m\r\n",
      "\u001b[?25hCollecting premailer\r\n",
      "  Downloading https://pypi.tuna.tsinghua.edu.cn/packages/b1/07/4e8d94f94c7d41ca5ddf8a9695ad87b888104e2fd41a35546c1dc9ca74ac/premailer-3.10.0-py2.py3-none-any.whl (19 kB)\r\n",
      "Collecting pdf2docx\r\n",
      "  Downloading https://pypi.tuna.tsinghua.edu.cn/packages/a2/58/fbb61776641b2aae1d408d1ee712e026040ae62b949857348504dde4cecb/pdf2docx-0.5.6-py3-none-any.whl (148 kB)\r\n",
      "\u001b[2K     \u001b[90m━━━━━━━━━━━━━━━━━━━━━━━━━━━━━━━━━━━━━━━\u001b[0m \u001b[32m148.4/148.4 kB\u001b[0m \u001b[31m1.1 MB/s\u001b[0m eta \u001b[36m0:00:00\u001b[0ma \u001b[36m0:00:01\u001b[0m\r\n",
      "\u001b[?25hCollecting PyMuPDF==1.19.0\r\n",
      "  Downloading https://pypi.tuna.tsinghua.edu.cn/packages/64/94/df6e892b88c3ecfedf83fbb099b925124ef39eeb6c3bbb5c43bef6f19ea1/PyMuPDF-1.19.0-cp37-cp37m-manylinux_2_12_x86_64.manylinux2010_x86_64.whl (8.7 MB)\r\n",
      "\u001b[2K     \u001b[90m━━━━━━━━━━━━━━━━━━━━━━━━━━━━━━━━━━━━━━━━\u001b[0m \u001b[32m8.7/8.7 MB\u001b[0m \u001b[31m2.0 MB/s\u001b[0m eta \u001b[36m0:00:00\u001b[0m00:01\u001b[0m00:01\u001b[0m\r\n",
      "\u001b[?25hCollecting scikit-image\r\n",
      "  Downloading https://pypi.tuna.tsinghua.edu.cn/packages/2d/ba/63ce953b7d593bd493e80be158f2d9f82936582380aee0998315510633aa/scikit_image-0.19.3-cp37-cp37m-manylinux_2_12_x86_64.manylinux2010_x86_64.whl (13.5 MB)\r\n",
      "\u001b[2K     \u001b[90m━━━━━━━━━━━━━━━━━━━━━━━━━━━━━━━━━━━━━━━━\u001b[0m \u001b[32m13.5/13.5 MB\u001b[0m \u001b[31m1.4 MB/s\u001b[0m eta \u001b[36m0:00:00\u001b[0m00:01\u001b[0m00:01\u001b[0m\r\n",
      "\u001b[?25hCollecting pyclipper\r\n",
      "  Downloading https://pypi.tuna.tsinghua.edu.cn/packages/5b/88/737eb2291aad95d77765b8bc6b4cb2a59b69e72b5d1922c7bab9a0979cdb/pyclipper-1.3.0.post3-cp37-cp37m-manylinux_2_5_x86_64.manylinux1_x86_64.whl (604 kB)\r\n",
      "\u001b[2K     \u001b[90m━━━━━━━━━━━━━━━━━━━━━━━━━━━━━━━━━━━━━━━\u001b[0m \u001b[32m604.2/604.2 kB\u001b[0m \u001b[31m1.8 MB/s\u001b[0m eta \u001b[36m0:00:00\u001b[0ma \u001b[36m0:00:01\u001b[0m\r\n",
      "\u001b[?25hCollecting lanms-neo==1.0.2\r\n",
      "  Downloading https://pypi.tuna.tsinghua.edu.cn/packages/7b/fe/beff7e7e4455cb9f69c5734897ca8552a57f6423b062ec86b2ebc1d79c0d/lanms_neo-1.0.2.tar.gz (39 kB)\r\n",
      "  Installing build dependencies ... \u001b[?25ldone\r\n",
      "\u001b[?25h  Getting requirements to build wheel ... \u001b[?25ldone\r\n",
      "\u001b[?25h  Preparing metadata (pyproject.toml) ... \u001b[?25ldone\r\n",
      "\u001b[?25hCollecting rapidfuzz\r\n",
      "  Downloading https://pypi.tuna.tsinghua.edu.cn/packages/ac/a7/e169f70c75ad1399b41b46aa3ee3c6d93e7b1dc588a6caa90a8824ee8d9a/rapidfuzz-2.13.2-cp37-cp37m-manylinux_2_17_x86_64.manylinux2014_x86_64.whl (2.2 MB)\r\n",
      "\u001b[2K     \u001b[90m━━━━━━━━━━━━━━━━━━━━━━━━━━━━━━━━━━━━━━━━\u001b[0m \u001b[32m2.2/2.2 MB\u001b[0m \u001b[31m1.7 MB/s\u001b[0m eta \u001b[36m0:00:00\u001b[0m00:01\u001b[0m00:01\u001b[0m\r\n",
      "\u001b[?25hCollecting opencv-contrib-python\r\n",
      "  Downloading https://pypi.tuna.tsinghua.edu.cn/packages/34/45/c8bc145b1541d1fbbf25d5494cd76453d9855971cfe571b9ad7e13cdb4c8/opencv_contrib_python-4.6.0.66-cp36-abi3-manylinux_2_17_x86_64.manylinux2014_x86_64.whl (67.1 MB)\r\n",
      "\u001b[2K     \u001b[90m━━━━━━━━━━━━━━━━━━━━━━━━━━━━━━━━━━━━━━━━\u001b[0m \u001b[32m67.1/67.1 MB\u001b[0m \u001b[31m2.2 MB/s\u001b[0m eta \u001b[36m0:00:00\u001b[0m00:01\u001b[0m00:01\u001b[0m\r\n",
      "\u001b[?25hRequirement already satisfied: cython in /opt/conda/envs/python35-paddle120-env/lib/python3.7/site-packages (from paddleocr->paddle-pipelines==0.1.0) (0.29)\r\n",
      "Requirement already satisfied: openpyxl in /opt/conda/envs/python35-paddle120-env/lib/python3.7/site-packages (from paddleocr->paddle-pipelines==0.1.0) (3.0.5)\r\n",
      "Collecting fire>=0.3.0\r\n",
      "  Downloading https://pypi.tuna.tsinghua.edu.cn/packages/11/07/a119a1aa04d37bc819940d95ed7e135a7dcca1c098123a3764a6dcace9e7/fire-0.4.0.tar.gz (87 kB)\r\n",
      "\u001b[2K     \u001b[90m━━━━━━━━━━━━━━━━━━━━━━━━━━━━━━━━━━━━━━━\u001b[0m \u001b[32m87.7/87.7 kB\u001b[0m \u001b[31m307.2 kB/s\u001b[0m eta \u001b[36m0:00:00\u001b[0m \u001b[36m0:00:01\u001b[0m\r\n",
      "\u001b[?25h  Preparing metadata (setup.py) ... \u001b[?25ldone\r\n",
      "\u001b[?25hCollecting lmdb\r\n",
      "  Downloading https://pypi.tuna.tsinghua.edu.cn/packages/4d/cf/3230b1c9b0bec406abb85a9332ba5805bdd03a1d24025c6bbcfb8ed71539/lmdb-1.3.0-cp37-cp37m-manylinux_2_12_x86_64.manylinux2010_x86_64.whl (298 kB)\r\n",
      "\u001b[2K     \u001b[90m━━━━━━━━━━━━━━━━━━━━━━━━━━━━━━━━━━━━━━━\u001b[0m \u001b[32m298.8/298.8 kB\u001b[0m \u001b[31m2.1 MB/s\u001b[0m eta \u001b[36m0:00:00\u001b[0ma \u001b[36m0:00:01\u001b[0m\r\n",
      "\u001b[?25hCollecting imgaug\r\n",
      "  Downloading https://pypi.tuna.tsinghua.edu.cn/packages/66/b1/af3142c4a85cba6da9f4ebb5ff4e21e2616309552caca5e8acefe9840622/imgaug-0.4.0-py2.py3-none-any.whl (948 kB)\r\n",
      "\u001b[2K     \u001b[90m━━━━━━━━━━━━━━━━━━━━━━━━━━━━━━━━━━━━━━━\u001b[0m \u001b[32m948.0/948.0 kB\u001b[0m \u001b[31m1.6 MB/s\u001b[0m eta \u001b[36m0:00:00\u001b[0ma \u001b[36m0:00:01\u001b[0m\r\n",
      "\u001b[?25hCollecting shapely\r\n",
      "  Downloading https://pypi.tuna.tsinghua.edu.cn/packages/7b/b6/580f795a835f7b93d6e5c4fb125ba4fa81eb0e8489c5ac126ac2669b9521/Shapely-1.8.5.post1-cp37-cp37m-manylinux_2_12_x86_64.manylinux2010_x86_64.whl (2.0 MB)\r\n",
      "\u001b[2K     \u001b[90m━━━━━━━━━━━━━━━━━━━━━━━━━━━━━━━━━━━━━━━━\u001b[0m \u001b[32m2.0/2.0 MB\u001b[0m \u001b[31m1.3 MB/s\u001b[0m eta \u001b[36m0:00:00\u001b[0m00:01\u001b[0m00:01\u001b[0m\r\n",
      "\u001b[?25hRequirement already satisfied: lxml in /opt/conda/envs/python35-paddle120-env/lib/python3.7/site-packages (from paddleocr->paddle-pipelines==0.1.0) (4.9.1)\r\n",
      "Collecting attrdict\r\n",
      "  Downloading https://pypi.tuna.tsinghua.edu.cn/packages/ef/97/28fe7e68bc7adfce67d4339756e85e9fcf3c6fd7f0c0781695352b70472c/attrdict-2.0.1-py2.py3-none-any.whl (9.9 kB)\r\n",
      "Collecting Wand>=0.6.10\r\n",
      "  Downloading https://pypi.tuna.tsinghua.edu.cn/packages/bb/f0/a3614d7b2bfdff543b8f864209055c29c29f4e9e3b2e167a324bb59019d0/Wand-0.6.10-py2.py3-none-any.whl (142 kB)\r\n",
      "\u001b[2K     \u001b[90m━━━━━━━━━━━━━━━━━━━━━━━━━━━━━━━━━━━━━━━\u001b[0m \u001b[32m142.8/142.8 kB\u001b[0m \u001b[31m1.1 MB/s\u001b[0m eta \u001b[36m0:00:00\u001b[0ma \u001b[36m0:00:01\u001b[0m\r\n",
      "\u001b[?25hCollecting pillow>=6.2.0\r\n",
      "  Downloading https://pypi.tuna.tsinghua.edu.cn/packages/c0/47/4023dab2d77ea3f687939770b06e0c191b4a5a20590f158a6e8dbb03e357/Pillow-9.3.0-cp37-cp37m-manylinux_2_17_x86_64.manylinux2014_x86_64.whl (3.2 MB)\r\n",
      "\u001b[2K     \u001b[90m━━━━━━━━━━━━━━━━━━━━━━━━━━━━━━━━━━━━━━━━\u001b[0m \u001b[32m3.2/3.2 MB\u001b[0m \u001b[31m1.4 MB/s\u001b[0m eta \u001b[36m0:00:00\u001b[0m00:01\u001b[0m00:01\u001b[0m\r\n",
      "\u001b[?25hCollecting pdfminer.six==20220524\r\n",
      "  Downloading https://pypi.tuna.tsinghua.edu.cn/packages/92/1c/f0e976509c8d453cb0f1b360619bbc2b588ef733c32780c9e0221918b7fa/pdfminer.six-20220524-py3-none-any.whl (5.6 MB)\r\n",
      "\u001b[2K     \u001b[90m━━━━━━━━━━━━━━━━━━━━━━━━━━━━━━━━━━━━━━━━\u001b[0m \u001b[32m5.6/5.6 MB\u001b[0m \u001b[31m1.2 MB/s\u001b[0m eta \u001b[36m0:00:00\u001b[0m00:01\u001b[0m00:01\u001b[0m0m\r\n",
      "\u001b[?25hRequirement already satisfied: charset-normalizer>=2.0.0 in /opt/conda/envs/python35-paddle120-env/lib/python3.7/site-packages (from pdfminer.six==20220524->pdfplumber->paddle-pipelines==0.1.0) (2.1.1)\r\n",
      "Requirement already satisfied: cryptography>=36.0.0 in /opt/conda/envs/python35-paddle120-env/lib/python3.7/site-packages (from pdfminer.six==20220524->pdfplumber->paddle-pipelines==0.1.0) (38.0.1)\r\n",
      "Requirement already satisfied: idna<3,>=2.5 in /opt/conda/envs/python35-paddle120-env/lib/python3.7/site-packages (from requests->paddle-pipelines==0.1.0) (2.8)\r\n",
      "Requirement already satisfied: chardet<4,>=3.0.2 in /opt/conda/envs/python35-paddle120-env/lib/python3.7/site-packages (from requests->paddle-pipelines==0.1.0) (3.0.4)\r\n",
      "Collecting htbuilder\r\n",
      "  Downloading https://pypi.tuna.tsinghua.edu.cn/packages/3d/40/2502c8f1ddc45a080fc9048a0e426d5389fa1b2ab71fbe60d2d9a25cadca/htbuilder-0.6.1.tar.gz (10 kB)\r\n",
      "  Preparing metadata (setup.py) ... \u001b[?25ldone\r\n",
      "\u001b[?25hCollecting h11>=0.8\r\n",
      "  Downloading https://pypi.tuna.tsinghua.edu.cn/packages/95/04/ff642e65ad6b90db43e668d70ffb6736436c7ce41fcc549f4e9472234127/h11-0.14.0-py3-none-any.whl (58 kB)\r\n",
      "\u001b[2K     \u001b[90m━━━━━━━━━━━━━━━━━━━━━━━━━━━━━━━━━━━━━━━━\u001b[0m \u001b[32m58.3/58.3 kB\u001b[0m \u001b[31m11.5 MB/s\u001b[0m eta \u001b[36m0:00:00\u001b[0m\r\n",
      "\u001b[?25hRequirement already satisfied: jsonschema>=3.0 in /opt/conda/envs/python35-paddle120-env/lib/python3.7/site-packages (from altair>=3.2.0->streamlit==1.9.0->paddle-pipelines==0.1.0) (4.16.0)\r\n",
      "Requirement already satisfied: entrypoints in /opt/conda/envs/python35-paddle120-env/lib/python3.7/site-packages (from altair>=3.2.0->streamlit==1.9.0->paddle-pipelines==0.1.0) (0.4)\r\n",
      "Collecting toolz\r\n",
      "  Downloading https://pypi.tuna.tsinghua.edu.cn/packages/7f/5c/922a3508f5bda2892be3df86c74f9cf1e01217c2b1f8a0ac4841d903e3e9/toolz-0.12.0-py3-none-any.whl (55 kB)\r\n",
      "\u001b[2K     \u001b[90m━━━━━━━━━━━━━━━━━━━━━━━━━━━━━━━━━━━━━━━\u001b[0m \u001b[32m55.8/55.8 kB\u001b[0m \u001b[31m726.1 kB/s\u001b[0m eta \u001b[36m0:00:00\u001b[0m \u001b[36m0:00:01\u001b[0m\r\n",
      "\u001b[?25hRequirement already satisfied: jinja2 in /opt/conda/envs/python35-paddle120-env/lib/python3.7/site-packages (from altair>=3.2.0->streamlit==1.9.0->paddle-pipelines==0.1.0) (3.0.0)\r\n",
      "Requirement already satisfied: pyyaml>=5.1 in /opt/conda/envs/python35-paddle120-env/lib/python3.7/site-packages (from datasets>=2.0.0->paddlenlp->paddle-pipelines==0.1.0) (5.1.2)\r\n",
      "Requirement already satisfied: responses<0.19 in /opt/conda/envs/python35-paddle120-env/lib/python3.7/site-packages (from datasets>=2.0.0->paddlenlp->paddle-pipelines==0.1.0) (0.18.0)\r\n",
      "Requirement already satisfied: huggingface-hub<1.0.0,>=0.2.0 in /opt/conda/envs/python35-paddle120-env/lib/python3.7/site-packages (from datasets>=2.0.0->paddlenlp->paddle-pipelines==0.1.0) (0.10.1)\r\n",
      "Requirement already satisfied: xxhash in /opt/conda/envs/python35-paddle120-env/lib/python3.7/site-packages (from datasets>=2.0.0->paddlenlp->paddle-pipelines==0.1.0) (3.1.0)\r\n",
      "Requirement already satisfied: fsspec[http]>=2021.11.1 in /opt/conda/envs/python35-paddle120-env/lib/python3.7/site-packages (from datasets>=2.0.0->paddlenlp->paddle-pipelines==0.1.0) (2022.11.0)\r\n",
      "Requirement already satisfied: aiohttp in /opt/conda/envs/python35-paddle120-env/lib/python3.7/site-packages (from datasets>=2.0.0->paddlenlp->paddle-pipelines==0.1.0) (3.8.3)\r\n",
      "Requirement already satisfied: termcolor in /opt/conda/envs/python35-paddle120-env/lib/python3.7/site-packages (from fire>=0.3.0->paddleocr->paddle-pipelines==0.1.0) (1.1.0)\r\n",
      "Requirement already satisfied: gitdb<5,>=4.0.1 in /opt/conda/envs/python35-paddle120-env/lib/python3.7/site-packages (from gitpython!=3.1.19->streamlit==1.9.0->paddle-pipelines==0.1.0) (4.0.5)\r\n",
      "Requirement already satisfied: zipp>=0.5 in /opt/conda/envs/python35-paddle120-env/lib/python3.7/site-packages (from importlib-metadata>=1.4->streamlit==1.9.0->paddle-pipelines==0.1.0) (3.8.1)\r\n",
      "Requirement already satisfied: pytz>=2017.2 in /opt/conda/envs/python35-paddle120-env/lib/python3.7/site-packages (from pandas>=0.21.0->streamlit==1.9.0->paddle-pipelines==0.1.0) (2019.3)\r\n",
      "Requirement already satisfied: soupsieve>1.2 in /opt/conda/envs/python35-paddle120-env/lib/python3.7/site-packages (from beautifulsoup4->paddleocr->paddle-pipelines==0.1.0) (2.3.2.post1)\r\n",
      "Requirement already satisfied: imageio in /opt/conda/envs/python35-paddle120-env/lib/python3.7/site-packages (from imgaug->paddleocr->paddle-pipelines==0.1.0) (2.6.1)\r\n",
      "Requirement already satisfied: scipy in /opt/conda/envs/python35-paddle120-env/lib/python3.7/site-packages (from imgaug->paddleocr->paddle-pipelines==0.1.0) (1.6.3)\r\n",
      "Requirement already satisfied: matplotlib in /opt/conda/envs/python35-paddle120-env/lib/python3.7/site-packages (from imgaug->paddleocr->paddle-pipelines==0.1.0) (2.2.3)\r\n",
      "Collecting PyWavelets>=1.1.1\r\n",
      "  Downloading https://pypi.tuna.tsinghua.edu.cn/packages/ae/56/4441877073d8a5266dbf7b04c7f3dc66f1149c8efb9323e0ef987a9bb1ce/PyWavelets-1.3.0-cp37-cp37m-manylinux_2_5_x86_64.manylinux1_x86_64.manylinux_2_12_x86_64.manylinux2010_x86_64.whl (6.4 MB)\r\n",
      "\u001b[2K     \u001b[90m━━━━━━━━━━━━━━━━━━━━━━━━━━━━━━━━━━━━━━━━\u001b[0m \u001b[32m6.4/6.4 MB\u001b[0m \u001b[31m2.0 MB/s\u001b[0m eta \u001b[36m0:00:00\u001b[0m00:01\u001b[0m00:01\u001b[0m\r\n",
      "\u001b[?25hRequirement already satisfied: networkx>=2.2 in /opt/conda/envs/python35-paddle120-env/lib/python3.7/site-packages (from scikit-image->paddleocr->paddle-pipelines==0.1.0) (2.4)\r\n",
      "Collecting tifffile>=2019.7.26\r\n",
      "  Downloading https://pypi.tuna.tsinghua.edu.cn/packages/d8/38/85ae5ed77598ca90558c17a2f79ddaba33173b31cf8d8f545d34d9134f0d/tifffile-2021.11.2-py3-none-any.whl (178 kB)\r\n",
      "\u001b[2K     \u001b[90m━━━━━━━━━━━━━━━━━━━━━━━━━━━━━━━━━━━━━\u001b[0m \u001b[32m178.9/178.9 kB\u001b[0m \u001b[31m528.1 kB/s\u001b[0m eta \u001b[36m0:00:00\u001b[0m00:01\u001b[0m00:01\u001b[0m\r\n",
      "\u001b[?25hRequirement already satisfied: pyparsing!=3.0.5,>=2.0.2 in /opt/conda/envs/python35-paddle120-env/lib/python3.7/site-packages (from packaging->streamlit==1.9.0->paddle-pipelines==0.1.0) (3.0.9)\r\n",
      "Requirement already satisfied: jdcal in /opt/conda/envs/python35-paddle120-env/lib/python3.7/site-packages (from openpyxl->paddleocr->paddle-pipelines==0.1.0) (1.4.1)\r\n",
      "Requirement already satisfied: et-xmlfile in /opt/conda/envs/python35-paddle120-env/lib/python3.7/site-packages (from openpyxl->paddleocr->paddle-pipelines==0.1.0) (1.0.1)\r\n",
      "Collecting cssselect\r\n",
      "  Downloading https://pypi.tuna.tsinghua.edu.cn/packages/06/a9/2da08717a6862c48f1d61ef957a7bba171e7eefa6c0aa0ceb96a140c2a6b/cssselect-1.2.0-py2.py3-none-any.whl (18 kB)\r\n",
      "Collecting cssutils\r\n",
      "  Downloading https://pypi.tuna.tsinghua.edu.cn/packages/28/4e/6c6d07b1ab43f7b8b939406b562c652c651a66699b8a01fc6b774cbf69de/cssutils-2.6.0-py3-none-any.whl (399 kB)\r\n",
      "\u001b[2K     \u001b[90m━━━━━━━━━━━━━━━━━━━━━━━━━━━━━━━━━━━━━━━\u001b[0m \u001b[32m399.7/399.7 kB\u001b[0m \u001b[31m3.9 MB/s\u001b[0m eta \u001b[36m0:00:00\u001b[0ma \u001b[36m0:00:01\u001b[0m\r\n",
      "\u001b[?25hRequirement already satisfied: scikit-learn>=0.21.3 in /opt/conda/envs/python35-paddle120-env/lib/python3.7/site-packages (from seqeval->paddlenlp->paddle-pipelines==0.1.0) (0.24.2)\r\n",
      "Collecting pytz-deprecation-shim\r\n",
      "  Downloading https://pypi.tuna.tsinghua.edu.cn/packages/eb/73/3eaab547ca809754e67e06871cff0fc962bafd4b604e15f31896a0f94431/pytz_deprecation_shim-0.1.0.post0-py2.py3-none-any.whl (15 kB)\r\n",
      "Collecting backports.zoneinfo\r\n",
      "  Downloading https://pypi.tuna.tsinghua.edu.cn/packages/4c/7e/ed8af95bed90eeccfb4a4fe6ec424bc7a79e1aa983e54dd1d9062d9fa20b/backports.zoneinfo-0.2.1-cp37-cp37m-manylinux1_x86_64.whl (70 kB)\r\n",
      "\u001b[2K     \u001b[90m━━━━━━━━━━━━━━━━━━━━━━━━━━━━━━━━━━━━━━━━\u001b[0m \u001b[32m70.7/70.7 kB\u001b[0m \u001b[31m4.3 MB/s\u001b[0m eta \u001b[36m0:00:00\u001b[0m\r\n",
      "\u001b[?25hRequirement already satisfied: decorator>=3.4.0 in /opt/conda/envs/python35-paddle120-env/lib/python3.7/site-packages (from validators->streamlit==1.9.0->paddle-pipelines==0.1.0) (4.4.2)\r\n",
      "Requirement already satisfied: bce-python-sdk in /opt/conda/envs/python35-paddle120-env/lib/python3.7/site-packages (from visualdl->paddlenlp->paddle-pipelines==0.1.0) (0.8.53)\r\n",
      "Requirement already satisfied: Flask-Babel>=1.0.0 in /opt/conda/envs/python35-paddle120-env/lib/python3.7/site-packages (from visualdl->paddlenlp->paddle-pipelines==0.1.0) (1.0.0)\r\n",
      "Requirement already satisfied: flask>=1.1.1 in /opt/conda/envs/python35-paddle120-env/lib/python3.7/site-packages (from visualdl->paddlenlp->paddle-pipelines==0.1.0) (1.1.1)\r\n",
      "Requirement already satisfied: sniffio>=1.1 in /opt/conda/envs/python35-paddle120-env/lib/python3.7/site-packages (from anyio<5,>=3.4.0->starlette==0.21.0->fastapi->paddle-pipelines==0.1.0) (1.3.0)\r\n",
      "Requirement already satisfied: cffi>=1.12 in /opt/conda/envs/python35-paddle120-env/lib/python3.7/site-packages (from cryptography>=36.0.0->pdfminer.six==20220524->pdfplumber->paddle-pipelines==0.1.0) (1.15.1)\r\n",
      "Requirement already satisfied: Werkzeug>=0.15 in /opt/conda/envs/python35-paddle120-env/lib/python3.7/site-packages (from flask>=1.1.1->visualdl->paddlenlp->paddle-pipelines==0.1.0) (0.16.0)\r\n",
      "Requirement already satisfied: itsdangerous>=0.24 in /opt/conda/envs/python35-paddle120-env/lib/python3.7/site-packages (from flask>=1.1.1->visualdl->paddlenlp->paddle-pipelines==0.1.0) (1.1.0)\r\n",
      "Requirement already satisfied: Babel>=2.3 in /opt/conda/envs/python35-paddle120-env/lib/python3.7/site-packages (from Flask-Babel>=1.0.0->visualdl->paddlenlp->paddle-pipelines==0.1.0) (2.8.0)\r\n",
      "Requirement already satisfied: asynctest==0.13.0 in /opt/conda/envs/python35-paddle120-env/lib/python3.7/site-packages (from aiohttp->datasets>=2.0.0->paddlenlp->paddle-pipelines==0.1.0) (0.13.0)\r\n",
      "Requirement already satisfied: async-timeout<5.0,>=4.0.0a3 in /opt/conda/envs/python35-paddle120-env/lib/python3.7/site-packages (from aiohttp->datasets>=2.0.0->paddlenlp->paddle-pipelines==0.1.0) (4.0.2)\r\n",
      "Requirement already satisfied: frozenlist>=1.1.1 in /opt/conda/envs/python35-paddle120-env/lib/python3.7/site-packages (from aiohttp->datasets>=2.0.0->paddlenlp->paddle-pipelines==0.1.0) (1.3.3)\r\n",
      "Requirement already satisfied: yarl<2.0,>=1.0 in /opt/conda/envs/python35-paddle120-env/lib/python3.7/site-packages (from aiohttp->datasets>=2.0.0->paddlenlp->paddle-pipelines==0.1.0) (1.8.1)\r\n",
      "Requirement already satisfied: multidict<7.0,>=4.5 in /opt/conda/envs/python35-paddle120-env/lib/python3.7/site-packages (from aiohttp->datasets>=2.0.0->paddlenlp->paddle-pipelines==0.1.0) (6.0.2)\r\n",
      "Requirement already satisfied: aiosignal>=1.1.2 in /opt/conda/envs/python35-paddle120-env/lib/python3.7/site-packages (from aiohttp->datasets>=2.0.0->paddlenlp->paddle-pipelines==0.1.0) (1.3.1)\r\n",
      "Requirement already satisfied: smmap<4,>=3.0.1 in /opt/conda/envs/python35-paddle120-env/lib/python3.7/site-packages (from gitdb<5,>=4.0.1->gitpython!=3.1.19->streamlit==1.9.0->paddle-pipelines==0.1.0) (3.0.5)\r\n",
      "Requirement already satisfied: filelock in /opt/conda/envs/python35-paddle120-env/lib/python3.7/site-packages (from huggingface-hub<1.0.0,>=0.2.0->datasets>=2.0.0->paddlenlp->paddle-pipelines==0.1.0) (3.0.12)\r\n",
      "Requirement already satisfied: MarkupSafe>=2.0.0rc2 in /opt/conda/envs/python35-paddle120-env/lib/python3.7/site-packages (from jinja2->altair>=3.2.0->streamlit==1.9.0->paddle-pipelines==0.1.0) (2.0.1)\r\n",
      "Requirement already satisfied: importlib-resources>=1.4.0 in /opt/conda/envs/python35-paddle120-env/lib/python3.7/site-packages (from jsonschema>=3.0->altair>=3.2.0->streamlit==1.9.0->paddle-pipelines==0.1.0) (5.9.0)\r\n",
      "Requirement already satisfied: pyrsistent!=0.17.0,!=0.17.1,!=0.17.2,>=0.14.0 in /opt/conda/envs/python35-paddle120-env/lib/python3.7/site-packages (from jsonschema>=3.0->altair>=3.2.0->streamlit==1.9.0->paddle-pipelines==0.1.0) (0.18.1)\r\n",
      "Requirement already satisfied: pkgutil-resolve-name>=1.3.10 in /opt/conda/envs/python35-paddle120-env/lib/python3.7/site-packages (from jsonschema>=3.0->altair>=3.2.0->streamlit==1.9.0->paddle-pipelines==0.1.0) (1.3.10)\r\n",
      "Requirement already satisfied: threadpoolctl>=2.0.0 in /opt/conda/envs/python35-paddle120-env/lib/python3.7/site-packages (from scikit-learn>=0.21.3->seqeval->paddlenlp->paddle-pipelines==0.1.0) (2.1.0)\r\n",
      "Requirement already satisfied: joblib>=0.11 in /opt/conda/envs/python35-paddle120-env/lib/python3.7/site-packages (from scikit-learn>=0.21.3->seqeval->paddlenlp->paddle-pipelines==0.1.0) (0.14.1)\r\n",
      "Requirement already satisfied: future>=0.6.0 in /opt/conda/envs/python35-paddle120-env/lib/python3.7/site-packages (from bce-python-sdk->visualdl->paddlenlp->paddle-pipelines==0.1.0) (0.18.0)\r\n",
      "Requirement already satisfied: pycryptodome>=3.8.0 in /opt/conda/envs/python35-paddle120-env/lib/python3.7/site-packages (from bce-python-sdk->visualdl->paddlenlp->paddle-pipelines==0.1.0) (3.9.9)\r\n",
      "Requirement already satisfied: cycler>=0.10 in /opt/conda/envs/python35-paddle120-env/lib/python3.7/site-packages (from matplotlib->imgaug->paddleocr->paddle-pipelines==0.1.0) (0.10.0)\r\n",
      "Requirement already satisfied: kiwisolver>=1.0.1 in /opt/conda/envs/python35-paddle120-env/lib/python3.7/site-packages (from matplotlib->imgaug->paddleocr->paddle-pipelines==0.1.0) (1.1.0)\r\n",
      "Collecting tzdata\r\n",
      "  Downloading https://pypi.tuna.tsinghua.edu.cn/packages/61/1e/3c4bf37f8d6ceba07ae357e70eedd21bd15a032b460bab6b12a58c0fce9d/tzdata-2022.6-py2.py3-none-any.whl (338 kB)\r\n",
      "\u001b[2K     \u001b[90m━━━━━━━━━━━━━━━━━━━━━━━━━━━━━━━━━━━━━━━\u001b[0m \u001b[32m338.8/338.8 kB\u001b[0m \u001b[31m2.5 MB/s\u001b[0m eta \u001b[36m0:00:00\u001b[0ma \u001b[36m0:00:01\u001b[0m\r\n",
      "\u001b[?25hRequirement already satisfied: pycparser in /opt/conda/envs/python35-paddle120-env/lib/python3.7/site-packages (from cffi>=1.12->cryptography>=36.0.0->pdfminer.six==20220524->pdfplumber->paddle-pipelines==0.1.0) (2.21)\r\n",
      "Building wheels for collected packages: langdetect, lanms-neo, python-docx, python-multipart, st-annotated-text, fire, htbuilder, Polygon3, validators\r\n",
      "  Building wheel for langdetect (setup.py) ... \u001b[?25ldone\r\n",
      "\u001b[?25h  Created wheel for langdetect: filename=langdetect-1.0.9-py3-none-any.whl size=993221 sha256=ab068e336f3ab5d4bea9625ca01163e648b79d8d9f1c6b822999a3a06dada869\r\n",
      "  Stored in directory: /home/aistudio/.cache/pip/wheels/fc/c9/4c/078f01e483835375e49f05d9b26e02f589b0fc7734f8c9b7c4\r\n",
      "  Building wheel for lanms-neo (pyproject.toml) ... \u001b[?25ldone\r\n",
      "\u001b[?25h  Created wheel for lanms-neo: filename=lanms_neo-1.0.2-cp37-cp37m-linux_x86_64.whl size=117077 sha256=c240234dc3bd72b2173b4887144899a8ba57b248e60774b40c1d474f7dfac08a\r\n",
      "  Stored in directory: /home/aistudio/.cache/pip/wheels/9e/58/fa/15108d5cceb27278960e52dbc526b3625257b0d46f57a37c86\r\n",
      "  Building wheel for python-docx (setup.py) ... \u001b[?25ldone\r\n",
      "\u001b[?25h  Created wheel for python-docx: filename=python_docx-0.8.11-py3-none-any.whl size=184492 sha256=5b43b95928fdbf514b2db508c0e02f57b832e15a886601e3682e45ea5ab399e3\r\n",
      "  Stored in directory: /home/aistudio/.cache/pip/wheels/90/f4/34/f69dae6a9ac7d58f08c23beccfb957b5c4f73f3aaaf5ae1054\r\n",
      "  Building wheel for python-multipart (setup.py) ... \u001b[?25ldone\r\n",
      "\u001b[?25h  Created wheel for python-multipart: filename=python_multipart-0.0.5-py3-none-any.whl size=31664 sha256=9ca5ebd60b1202ef1a3b82e33b9ff5d75d37aa5d60c2498cd9be1cca7069081a\r\n",
      "  Stored in directory: /home/aistudio/.cache/pip/wheels/2c/35/62/4a054e387d297589304caf266eef1b901a350fdce53ab42307\r\n",
      "  Building wheel for st-annotated-text (setup.py) ... \u001b[?25ldone\r\n",
      "\u001b[?25h  Created wheel for st-annotated-text: filename=st_annotated_text-3.0.0-py3-none-any.whl size=8332 sha256=c9e08af5170e0db8aff62e802fec9eda4d01cd591773549c1a326a17ca30fcf1\r\n",
      "  Stored in directory: /home/aistudio/.cache/pip/wheels/84/f8/5f/8f0fa137eb8efba4c2b5d7dc3f60bb5dc4f5f31648d3e65218\r\n",
      "  Building wheel for fire (setup.py) ... \u001b[?25ldone\r\n",
      "\u001b[?25h  Created wheel for fire: filename=fire-0.4.0-py2.py3-none-any.whl size=115928 sha256=13a689f197ff8b905ccffe2185577fa1b631e3d91c6ff62915c79d27d0491ad0\r\n",
      "  Stored in directory: /home/aistudio/.cache/pip/wheels/65/a5/a7/3ca725beade9676a2e72fe779d09efc89931fba0d90966d8ec\r\n",
      "  Building wheel for htbuilder (setup.py) ... \u001b[?25ldone\r\n",
      "\u001b[?25h  Created wheel for htbuilder: filename=htbuilder-0.6.1-py3-none-any.whl size=12441 sha256=d3a7481e2ddd96cacaca7d7cb35e77dcc3fdaa1394dba541229e30d864c5236a\r\n",
      "  Stored in directory: /home/aistudio/.cache/pip/wheels/d4/f9/c8/a3c5a57965a19156d791c20899b55f077584c0ab108667f2b5\r\n",
      "  Building wheel for Polygon3 (setup.py) ... \u001b[?25ldone\r\n",
      "\u001b[?25h  Created wheel for Polygon3: filename=Polygon3-3.0.9.1-cp37-cp37m-linux_x86_64.whl size=122779 sha256=3006f4679fdd1c0f04e481867a28a335358954f82b3213aceb3824704511b9c7\r\n",
      "  Stored in directory: /home/aistudio/.cache/pip/wheels/1c/0e/c3/b5193642353392b88f7563777571d3f74cca2b5ed36fbbfe55\r\n",
      "  Building wheel for validators (setup.py) ... \u001b[?25ldone\r\n",
      "\u001b[?25h  Created wheel for validators: filename=validators-0.20.0-py3-none-any.whl size=19567 sha256=124b290d1196d11ec880d50feb916a0f1e757630f579fd0c8d3e96bd3ec8a202\r\n",
      "  Stored in directory: /home/aistudio/.cache/pip/wheels/16/2c/b4/bee4ff00f1396725acf6fa020fd9d43f930d22d4f150ee6e56\r\n",
      "Successfully built langdetect lanms-neo python-docx python-multipart st-annotated-text fire htbuilder Polygon3 validators\r\n",
      "Installing collected packages: Wand, pyclipper, Polygon3, mmh3, lmdb, lanms-neo, faiss-cpu, watchdog, validators, tzdata, toolz, tifffile, shapely, semver, rapidfuzz, PyWavelets, python-multipart, python-docx, PyMuPDF, pympler, pydantic, pillow, opencv-python, opencv-contrib-python-headless, opencv-contrib-python, langdetect, htbuilder, h11, fonttools, fire, elasticsearch, cssselect, blinker, backports.zoneinfo, attrdict, uvicorn, starlette, st-annotated-text, pytz-deprecation-shim, pydeck, pdf2docx, cssutils, tzlocal, sqlalchemy-utils, scikit-image, premailer, pdfminer.six, fastapi, altair, streamlit, pdfplumber, imgaug, paddleocr, paddle-pipelines\r\n",
      "  Attempting uninstall: pillow\r\n",
      "    Found existing installation: Pillow 8.2.0\r\n",
      "    Uninstalling Pillow-8.2.0:\r\n",
      "      Successfully uninstalled Pillow-8.2.0\r\n",
      "  Attempting uninstall: opencv-python\r\n",
      "    Found existing installation: opencv-python 4.1.1.26\r\n",
      "    Uninstalling opencv-python-4.1.1.26:\r\n",
      "      Successfully uninstalled opencv-python-4.1.1.26\r\n",
      "Successfully installed Polygon3-3.0.9.1 PyMuPDF-1.19.0 PyWavelets-1.3.0 Wand-0.6.10 altair-4.2.0 attrdict-2.0.1 backports.zoneinfo-0.2.1 blinker-1.5 cssselect-1.2.0 cssutils-2.6.0 elasticsearch-7.10.0 faiss-cpu-1.7.2 fastapi-0.87.0 fire-0.4.0 fonttools-4.38.0 h11-0.14.0 htbuilder-0.6.1 imgaug-0.4.0 langdetect-1.0.9 lanms-neo-1.0.2 lmdb-1.3.0 mmh3-3.0.0 opencv-contrib-python-4.6.0.66 opencv-contrib-python-headless-4.6.0.66 opencv-python-4.6.0.66 paddle-pipelines-0.1.0 paddleocr-2.6.1.0 pdf2docx-0.5.6 pdfminer.six-20220524 pdfplumber-0.7.5 pillow-9.3.0 premailer-3.10.0 pyclipper-1.3.0.post3 pydantic-1.10.2 pydeck-0.8.0 pympler-1.0.1 python-docx-0.8.11 python-multipart-0.0.5 pytz-deprecation-shim-0.1.0.post0 rapidfuzz-2.13.2 scikit-image-0.19.3 semver-2.13.0 shapely-1.8.5.post1 sqlalchemy-utils-0.38.3 st-annotated-text-3.0.0 starlette-0.21.0 streamlit-1.9.0 tifffile-2021.11.2 toolz-0.12.0 tzdata-2022.6 tzlocal-4.2 uvicorn-0.19.0 validators-0.20.0 watchdog-2.1.9\r\n",
      "\r\n",
      "\u001b[1m[\u001b[0m\u001b[34;49mnotice\u001b[0m\u001b[1;39;49m]\u001b[0m\u001b[39;49m A new release of pip available: \u001b[0m\u001b[31;49m22.1.2\u001b[0m\u001b[39;49m -> \u001b[0m\u001b[32;49m22.3.1\u001b[0m\r\n",
      "\u001b[1m[\u001b[0m\u001b[34;49mnotice\u001b[0m\u001b[1;39;49m]\u001b[0m\u001b[39;49m To update, run: \u001b[0m\u001b[32;49mpip install --upgrade pip\u001b[0m\r\n"
     ]
    }
   ],
   "source": [
    "# 安装过程持续3分钟左右，与网络有关\n",
    "!pip install paddle-pipelines==0.1.0"
   ]
  },
  {
   "cell_type": "code",
   "execution_count": 4,
   "metadata": {
    "collapsed": false,
    "execution": {
     "iopub.execute_input": "2022-11-14T02:40:42.676263Z",
     "iopub.status.busy": "2022-11-14T02:40:42.675124Z",
     "iopub.status.idle": "2022-11-14T02:40:46.937324Z",
     "shell.execute_reply": "2022-11-14T02:40:46.936381Z",
     "shell.execute_reply.started": "2022-11-14T02:40:42.676227Z"
    },
    "jupyter": {
     "outputs_hidden": false
    },
    "scrolled": true,
    "tags": []
   },
   "outputs": [],
   "source": [
    "import os\n",
    "# 导入paddle和pipelines相关的库\n",
    "import paddle\n",
    "from pipelines.document_stores import FAISSDocumentStore\n",
    "from pipelines.utils import convert_files_to_dicts, fetch_archive_from_http, print_documents\n",
    "from pipelines.nodes import ErnieRanker, DensePassageRetriever"
   ]
  },
  {
   "cell_type": "code",
   "execution_count": 5,
   "metadata": {
    "collapsed": false,
    "execution": {
     "iopub.execute_input": "2022-11-14T02:40:49.961287Z",
     "iopub.status.busy": "2022-11-14T02:40:49.960576Z",
     "iopub.status.idle": "2022-11-14T02:40:50.502278Z",
     "shell.execute_reply": "2022-11-14T02:40:50.501432Z",
     "shell.execute_reply.started": "2022-11-14T02:40:49.961245Z"
    },
    "jupyter": {
     "outputs_hidden": false
    },
    "scrolled": true,
    "tags": []
   },
   "outputs": [
    {
     "name": "stderr",
     "output_type": "stream",
     "text": [
      "INFO - pipelines.utils.import_utils -  Fetching from https://paddlenlp.bj.bcebos.com/applications/insurance.zip to `data/insurance`\r\n",
      "INFO - pipelines.utils.preprocessing -  Converting data/insurance/qa_pair.txt\r\n"
     ]
    }
   ],
   "source": [
    "doc_dir = \"data/insurance\"\n",
    "city_data = \"https://paddlenlp.bj.bcebos.com/applications/insurance.zip\"\n",
    "fetch_archive_from_http(url=city_data, output_dir=doc_dir)\n",
    "dicts = convert_files_to_dicts(dir_path=doc_dir,\n",
    "                                       split_paragraphs=True,\n",
    "                                       split_answers=True,\n",
    "                                       encoding='utf-8')"
   ]
  },
  {
   "cell_type": "code",
   "execution_count": 6,
   "metadata": {
    "execution": {
     "iopub.execute_input": "2022-11-14T02:40:53.706702Z",
     "iopub.status.busy": "2022-11-14T02:40:53.706062Z",
     "iopub.status.idle": "2022-11-14T02:41:04.969444Z",
     "shell.execute_reply": "2022-11-14T02:41:04.968443Z",
     "shell.execute_reply.started": "2022-11-14T02:40:53.706668Z"
    },
    "scrolled": true,
    "tags": []
   },
   "outputs": [
    {
     "name": "stderr",
     "output_type": "stream",
     "text": [
      "INFO - pipelines.document_stores.faiss -  document_cnt:0\tembedding_cnt:0\r\n"
     ]
    },
    {
     "data": {
      "application/vnd.jupyter.widget-view+json": {
       "model_id": "4d762027263d409b94865e3848880a86",
       "version_major": 2,
       "version_minor": 0
      },
      "text/plain": [
       "Writing Documents:   0%|          | 0/3788 [00:00<?, ?it/s]"
      ]
     },
     "metadata": {},
     "output_type": "display_data"
    }
   ],
   "source": [
    "# 删除原有的faiss文件\n",
    "if(os.path.exists('faiss_document_store.db')):\n",
    "    os.remove('faiss_document_store.db')\n",
    "# 初始化FAISSDocumentStore，定义向量的维度和索引的类型\n",
    "document_store = FAISSDocumentStore(embedding_dim=312,\n",
    "                                            faiss_index_factory_str=\"Flat\")\n",
    "# 把文本数据写入到数据库\n",
    "document_store.write_documents(dicts)"
   ]
  },
  {
   "cell_type": "code",
   "execution_count": 7,
   "metadata": {
    "execution": {
     "iopub.execute_input": "2022-11-14T02:41:08.613468Z",
     "iopub.status.busy": "2022-11-14T02:41:08.612807Z",
     "iopub.status.idle": "2022-11-14T02:41:20.778147Z",
     "shell.execute_reply": "2022-11-14T02:41:20.777130Z",
     "shell.execute_reply.started": "2022-11-14T02:41:08.613432Z"
    },
    "scrolled": true,
    "tags": []
   },
   "outputs": [
    {
     "name": "stderr",
     "output_type": "stream",
     "text": [
      "INFO - pipelines.utils.common_utils -  Using devices: PLACE(GPU:0)\r\n",
      "INFO - pipelines.utils.common_utils -  Number of GPUs: 1\r\n",
      "[2022-11-14 10:41:08,618] [    INFO] - Downloading https://paddlenlp.bj.bcebos.com/models/transformers/rocketqa/rocketqa-zh-nano-query-encoder.pdparams and saved to /home/aistudio/.paddlenlp/models/rocketqa-zh-nano-query-encoder\r\n",
      "[2022-11-14 10:41:08,621] [    INFO] - Downloading rocketqa-zh-nano-query-encoder.pdparams from https://paddlenlp.bj.bcebos.com/models/transformers/rocketqa/rocketqa-zh-nano-query-encoder.pdparams\r\n",
      "100%|██████████| 68.3M/68.3M [00:09<00:00, 7.24MB/s]\r\n",
      "W1114 10:41:18.664929   519 gpu_resources.cc:61] Please NOTE: device: 0, GPU Compute Capability: 7.0, Driver API Version: 11.2, Runtime API Version: 11.2\r\n",
      "W1114 10:41:18.669476   519 gpu_resources.cc:91] device: 0, cuDNN Version: 8.2.\r\n",
      "[2022-11-14 10:41:20,179] [    INFO] - Already cached /home/aistudio/.paddlenlp/models/rocketqa-zh-nano-query-encoder/rocketqa-zh-nano-query-encoder.pdparams\r\n",
      "[2022-11-14 10:41:20,458] [    INFO] - We are using <class 'paddlenlp.transformers.ernie.tokenizer.ErnieTokenizer'> to load 'rocketqa-zh-nano-query-encoder'.\r\n",
      "[2022-11-14 10:41:20,460] [    INFO] - Downloading https://bj.bcebos.com/paddlenlp/models/transformers/ernie_3.0/ernie_3.0_nano_zh_vocab.txt and saved to /home/aistudio/.paddlenlp/models/rocketqa-zh-nano-query-encoder\r\n",
      "[2022-11-14 10:41:20,462] [    INFO] - Downloading ernie_3.0_nano_zh_vocab.txt from https://bj.bcebos.com/paddlenlp/models/transformers/ernie_3.0/ernie_3.0_nano_zh_vocab.txt\r\n",
      "100%|██████████| 182k/182k [00:00<00:00, 1.75MB/s]\r\n",
      "[2022-11-14 10:41:20,734] [    INFO] - tokenizer config file saved in /home/aistudio/.paddlenlp/models/rocketqa-zh-nano-query-encoder/tokenizer_config.json\r\n",
      "[2022-11-14 10:41:20,736] [    INFO] - Special tokens file saved in /home/aistudio/.paddlenlp/models/rocketqa-zh-nano-query-encoder/special_tokens_map.json\r\n",
      "[2022-11-14 10:41:20,739] [    INFO] - We are using <class 'paddlenlp.transformers.ernie.tokenizer.ErnieTokenizer'> to load 'rocketqa-zh-nano-query-encoder'.\r\n",
      "[2022-11-14 10:41:20,743] [    INFO] - Already cached /home/aistudio/.paddlenlp/models/rocketqa-zh-nano-query-encoder/ernie_3.0_nano_zh_vocab.txt\r\n",
      "[2022-11-14 10:41:20,768] [    INFO] - tokenizer config file saved in /home/aistudio/.paddlenlp/models/rocketqa-zh-nano-query-encoder/tokenizer_config.json\r\n",
      "[2022-11-14 10:41:20,771] [    INFO] - Special tokens file saved in /home/aistudio/.paddlenlp/models/rocketqa-zh-nano-query-encoder/special_tokens_map.json\r\n",
      "INFO - pipelines.utils.logger -  Logged parameters: \r\n",
      " {'processor': 'TextSimilarityProcessor', 'tokenizer': 'NoneType', 'max_seq_len': '0', 'dev_split': '0.1'}\r\n"
     ]
    }
   ],
   "source": [
    "# 抽向量的batch_size\n",
    "retriever_batch_size=16\n",
    "# gpu的开关\n",
    "use_gpu = True\n",
    "# query文本的长度\n",
    "max_seq_len_query = 64\n",
    "# passage文本的长度\n",
    "max_seq_len_passage = 384\n",
    "retriever = DensePassageRetriever(\n",
    "            document_store=document_store,\n",
    "            query_embedding_model=\"rocketqa-zh-nano-query-encoder\",\n",
    "            passage_embedding_model=\"rocketqa-zh-nano-query-encoder\",\n",
    "            max_seq_len_query=max_seq_len_query,\n",
    "            max_seq_len_passage=max_seq_len_passage,\n",
    "            batch_size=retriever_batch_size,\n",
    "            use_gpu=use_gpu,\n",
    "            embed_title=False,\n",
    "        )"
   ]
  },
  {
   "cell_type": "code",
   "execution_count": 8,
   "metadata": {
    "execution": {
     "iopub.execute_input": "2022-11-14T02:41:25.849260Z",
     "iopub.status.busy": "2022-11-14T02:41:25.848724Z",
     "iopub.status.idle": "2022-11-14T02:41:32.256864Z",
     "shell.execute_reply": "2022-11-14T02:41:32.256043Z",
     "shell.execute_reply.started": "2022-11-14T02:41:25.849226Z"
    },
    "scrolled": true,
    "tags": []
   },
   "outputs": [
    {
     "name": "stderr",
     "output_type": "stream",
     "text": [
      "INFO - pipelines.document_stores.faiss -  Updating embeddings for 3776 docs...\r\n"
     ]
    },
    {
     "data": {
      "application/vnd.jupyter.widget-view+json": {
       "model_id": "3907bdd432a8459ca74ab91dffd9a202",
       "version_major": 2,
       "version_minor": 0
      },
      "text/plain": [
       "Updating Embedding:   0%|          | 0/3776 [00:00<?, ? docs/s]"
      ]
     },
     "metadata": {},
     "output_type": "display_data"
    },
    {
     "data": {
      "application/vnd.jupyter.widget-view+json": {
       "model_id": "",
       "version_major": 2,
       "version_minor": 0
      },
      "text/plain": [
       "Create embeddings:   0%|          | 0/3776 [00:00<?, ? Docs/s]"
      ]
     },
     "metadata": {},
     "output_type": "display_data"
    }
   ],
   "source": [
    "# 使用retriever抽取文本的向量，然后更新到faiss中\n",
    "document_store.update_embeddings(retriever)"
   ]
  },
  {
   "cell_type": "code",
   "execution_count": 9,
   "metadata": {
    "execution": {
     "iopub.execute_input": "2022-11-14T02:44:32.050111Z",
     "iopub.status.busy": "2022-11-14T02:44:32.049285Z",
     "iopub.status.idle": "2022-11-14T02:44:32.079745Z",
     "shell.execute_reply": "2022-11-14T02:44:32.078917Z",
     "shell.execute_reply.started": "2022-11-14T02:44:32.050075Z"
    },
    "scrolled": true,
    "tags": []
   },
   "outputs": [],
   "source": [
    "# 将faiss的索引文件存储\n",
    "index_name = \"faiss_index\"\n",
    "document_store.save(index_name)"
   ]
  },
  {
   "cell_type": "code",
   "execution_count": 10,
   "metadata": {
    "execution": {
     "iopub.execute_input": "2022-11-14T02:44:34.675549Z",
     "iopub.status.busy": "2022-11-14T02:44:34.674999Z",
     "iopub.status.idle": "2022-11-14T02:44:57.869736Z",
     "shell.execute_reply": "2022-11-14T02:44:57.869007Z",
     "shell.execute_reply.started": "2022-11-14T02:44:34.675513Z"
    },
    "scrolled": true,
    "tags": []
   },
   "outputs": [
    {
     "name": "stderr",
     "output_type": "stream",
     "text": [
      "INFO - pipelines.utils.common_utils -  Using devices: PLACE(GPU:0)\r\n",
      "INFO - pipelines.utils.common_utils -  Number of GPUs: 1\r\n"
     ]
    },
    {
     "name": "stdout",
     "output_type": "stream",
     "text": [
      "Loading Parameters from:rocketqa-mini-cross-encoder\r\n"
     ]
    },
    {
     "name": "stderr",
     "output_type": "stream",
     "text": [
      "[2022-11-14 10:44:34,681] [    INFO] - Downloading https://paddlenlp.bj.bcebos.com/models/transformers/rocketqa/rocketqa-mini-cross-encoder.pdparams and saved to /home/aistudio/.paddlenlp/models/rocketqa-mini-cross-encoder\r\n",
      "[2022-11-14 10:44:34,686] [    INFO] - Downloading rocketqa-mini-cross-encoder.pdparams from https://paddlenlp.bj.bcebos.com/models/transformers/rocketqa/rocketqa-mini-cross-encoder.pdparams\r\n",
      "100%|██████████| 103M/103M [00:22<00:00, 4.81MB/s] \r\n",
      "[2022-11-14 10:44:57,644] [    INFO] - We are using <class 'paddlenlp.transformers.ernie.tokenizer.ErnieTokenizer'> to load 'rocketqa-mini-cross-encoder'.\r\n",
      "[2022-11-14 10:44:57,648] [    INFO] - Downloading https://bj.bcebos.com/paddlenlp/models/transformers/ernie_3.0/ernie_3.0_mini_zh_vocab.txt and saved to /home/aistudio/.paddlenlp/models/rocketqa-mini-cross-encoder\r\n",
      "[2022-11-14 10:44:57,651] [    INFO] - Downloading ernie_3.0_mini_zh_vocab.txt from https://bj.bcebos.com/paddlenlp/models/transformers/ernie_3.0/ernie_3.0_mini_zh_vocab.txt\r\n",
      "100%|██████████| 182k/182k [00:00<00:00, 2.70MB/s]\r\n",
      "[2022-11-14 10:44:57,862] [    INFO] - tokenizer config file saved in /home/aistudio/.paddlenlp/models/rocketqa-mini-cross-encoder/tokenizer_config.json\r\n",
      "[2022-11-14 10:44:57,864] [    INFO] - Special tokens file saved in /home/aistudio/.paddlenlp/models/rocketqa-mini-cross-encoder/special_tokens_map.json\r\n"
     ]
    }
   ],
   "source": [
    "### Ranker\n",
    "ranker = ErnieRanker(\n",
    "        model_name_or_path=\"rocketqa-mini-cross-encoder\",\n",
    "        use_gpu=use_gpu)\n"
   ]
  },
  {
   "cell_type": "code",
   "execution_count": 11,
   "metadata": {
    "execution": {
     "iopub.execute_input": "2022-11-14T02:45:04.080396Z",
     "iopub.status.busy": "2022-11-14T02:45:04.079658Z",
     "iopub.status.idle": "2022-11-14T02:45:04.084240Z",
     "shell.execute_reply": "2022-11-14T02:45:04.083554Z",
     "shell.execute_reply.started": "2022-11-14T02:45:04.080358Z"
    },
    "scrolled": true,
    "tags": []
   },
   "outputs": [],
   "source": [
    "### Pipeline\n",
    "from pipelines.pipelines import SemanticSearchPipeline\n",
    "pipe = SemanticSearchPipeline(retriever, ranker)"
   ]
  },
  {
   "cell_type": "code",
   "execution_count": 12,
   "metadata": {
    "execution": {
     "iopub.execute_input": "2022-11-14T02:45:06.491184Z",
     "iopub.status.busy": "2022-11-14T02:45:06.490283Z",
     "iopub.status.idle": "2022-11-14T02:45:06.494933Z",
     "shell.execute_reply": "2022-11-14T02:45:06.494170Z",
     "shell.execute_reply.started": "2022-11-14T02:45:06.491149Z"
    },
    "scrolled": true,
    "tags": []
   },
   "outputs": [],
   "source": [
    "pipeline_params = {\"Retriever\": {\"top_k\": 50}, \"Ranker\": {\"top_k\": 3}}"
   ]
  },
  {
   "cell_type": "code",
   "execution_count": 13,
   "metadata": {
    "execution": {
     "iopub.execute_input": "2022-11-14T02:45:07.790923Z",
     "iopub.status.busy": "2022-11-14T02:45:07.790009Z",
     "iopub.status.idle": "2022-11-14T02:45:08.257302Z",
     "shell.execute_reply": "2022-11-14T02:45:08.256261Z",
     "shell.execute_reply.started": "2022-11-14T02:45:07.790889Z"
    },
    "scrolled": true,
    "tags": []
   },
   "outputs": [],
   "source": [
    "prediction = pipe.run(query=\"企业如何办理养老保险\", params=pipeline_params)"
   ]
  },
  {
   "cell_type": "code",
   "execution_count": 14,
   "metadata": {
    "execution": {
     "iopub.execute_input": "2022-11-14T02:45:10.555290Z",
     "iopub.status.busy": "2022-11-14T02:45:10.554363Z",
     "iopub.status.idle": "2022-11-14T02:45:10.600243Z",
     "shell.execute_reply": "2022-11-14T02:45:10.599466Z",
     "shell.execute_reply.started": "2022-11-14T02:45:10.555253Z"
    },
    "scrolled": true
   },
   "outputs": [
    {
     "name": "stdout",
     "output_type": "stream",
     "text": [
      "\r\n",
      "Query: 企业如何办理养老保险\r\n",
      "\r\n",
      "{   'content': '如何办理企业养老保险',\r\n",
      "    'meta': {   'answer': '企业养老保险一般是交由企业办理，个人需要准备好相关的文件即可。个人在参加企业养老保险的时候，需填报《参加企业基本养老保险人员基本情况表》，并提供以下证件和主要资料：1、身份证件及复印件；2、户口簿及复印件；3、以个人身份参保前原为职工身份的本人档案材料；4、曾在其他统筹地区参保的，重新登记应提供原参保所在地社保机构开具的《基本养老保险关系转移表》；5、与单位解除劳动关系的，应提供相关证明；6、省社保机构规定的其他证件资料。企业缴费以职工工资总额为基数，缴费比例为20%；职工个人缴费以本人全部工资收入为基数，月缴费工资超过全省上一年度职工平均工资300%以上的部分不计入，低于60%的按60%计算。职工个人应当缴纳的养老保险费，由所在单位从其工资中代扣代缴。',\r\n",
      "                'name': 'qa_pair.txt',\r\n",
      "                'vector_id': '3715'}}\r\n",
      "\r\n",
      "{   'content': '企业养老每个月交一次，需怎样办理？',\r\n",
      "    'meta': {   'answer': '办理社会保险登记对于首次参加养老保险的企业，需携带《营业执照》、批准成立的文件或其它执业证件、《组织机构统一代码证》、近期《职工工资发放表》、单位法定代表人身份证复印件、存档机构的存档证明，到养老保险科办理登记手续。新参保单位自办理社会保险登记之日起30日内，持《市社会保险登记表》和《社会保险登记证》复印件及相关证件资料，到当*区的*税*办理社会保险缴费登记手续，并到商业银行开缴费账户。企业申报养老保险程序如果企业需按月申报养老保险，并按以下要求到养老保险科办理手续：1、职工有增减变动时，需填写《建立表》、《恢复表》、《中断表》，并携带《职工养老保险手册》、转移单等相关资料；2、职工缴费工作变动时，要填写《职工缴费工资表》；3、企业填写《月申报表》，业务员核定盖章，由企业持《申报表》到桥*区*税*缴费。企业退休待遇审批程序公司职工在达到法定退休年龄时可以办理退休手续。企业携带拟定退休人员档案、《养老保险手册》（退休职工本人在《养老保险手册》上逐年签字）、身份证复印件，到劳动*认定、审核后领取《退休审批表》，再到社保*养老保险科办理审批手续。',\r\n",
      "                'name': 'qa_pair.txt',\r\n",
      "                'vector_id': '3640'}}\r\n",
      "\r\n",
      "{   'content': '养老保险办理指南个人如何办理养老保险',\r\n",
      "    'meta': {   'answer': '个人养老保险的保险期限包括保险费缴费期和养老金额取期。保险费缴费期从被保险人办理投保手续，并交纳第一期保险费起，至约定缴费期满为止；养老金领取从被保险人约定的缴费期满的次月起，至保险人保险责任终止时止。具体办理的流程和手续是：一、提供材料1、提供个人的身份证、户口本、存档卡及其复印件一份。2、原参加过企业养老保险的职工需提供养老保险转移单、手册、台帐。3、按要求所需提供的其它材料（招工表、军官转业证等）。二、审核材料社会保险经办部门依照有关规定对上述材料审核无误后，发给《参加养老保险人员基本情况登记表》、《企业城镇劳动者参加养老保险登记表》、《企业城镇劳动者参加养老保险缴费补填表》、《企业城镇劳动者养老保险基金补缴汇总表》、《企业城镇劳动者参加养老保险缴费情况表》及一些附属表格。三、填写表格和缴费工资基数确定个人在如实填写上述表格后，以上一年本市职工月平均工资至其3倍之间确定缴费工资基数，按照本人缴费工资基数25%（1999年-2000年间）缴纳基本养老费，缴费工资基数一经确定一年不变。四、缴纳养老保险费1、社会保险科在对个人所填写表格内容进行逐项审核无误后，与个人签定《北京市企业城镇劳动者缴纳基本养老保险费协议书》一式2份，双方各保留一份。2、社会保险科根据个人的缴费工资基数，核查缴纳基本养老保险费数额，并通知个人到收费处缴纳基本养老保险费。3、社会保险科在审核个人缴纳基本养老保险费凭证后，发给其社会保险缴费卡。4、个人必须按社会保险科规定时间内缴纳基本养老保险费，逾期不缴纳基本养老保险费视同自行中断缴费，不予补缴。',\r\n",
      "                'name': 'qa_pair.txt',\r\n",
      "                'vector_id': '2791'}}\r\n",
      "\r\n"
     ]
    }
   ],
   "source": [
    "print_documents(prediction, print_name=False, print_meta=True)"
   ]
  },
  {
   "cell_type": "markdown",
   "metadata": {},
   "source": [
    "上面是输出的结果，可以看到第一条是正确的答案，说明搜索得到了正确的答案了"
   ]
  },
  {
   "cell_type": "markdown",
   "metadata": {},
   "source": [
    "# 7.更新 & 删除数据\n",
    "\n",
    "\n",
    "\n",
    "+ 更新数据 ：对于数据更新，可以直接把`data/insurance`目录下的文本文件，替换成您所需要的文本，然后重新运行整个项目，就可以重新构建索引，构建您的定制化FAQ智能问答系统。\n",
    "\n",
    "+ 删除数据：对于删除数据，可以直接把`data/insurance`目录下的文本文件，删除相应的文本，然后重新运行整个项目，就可以重新构建索引，构建您的定制化FAQ智能问答系统。\n",
    "\n",
    "\n",
    "整个构建流程很快， Enjoy it！"
   ]
  },
  {
   "cell_type": "markdown",
   "metadata": {},
   "source": [
    "- **如果对您有帮助，欢迎star收藏一下，不易走丢哦~链接指路：**[https://github.com/PaddlePaddle/PaddleNLP](https://github.com/PaddlePaddle/PaddleNLP)\n",
    "\n",
    "<img src=\"https://ai-studio-static-online.cdn.bcebos.com/7f287240b16f4c4081d0b57ca808dce62769b13369434c64b9a26cfc48b6a978\" width=\"70%\" height=\"70%\"> <br />\n",
    "\n",
    "\n",
    "- **加入微信交流群，一起学习吧**\n",
    "\n",
    "欢迎扫码填写基础问卷后，加入PaddleNLP技术交流群（微信），获得超多福利：\n",
    "\n",
    "（1）领取官方团队准备的10GB NLP学习大礼包\n",
    "\n",
    "（2）获取近期课程链接，及时跟进最新发布功能\n",
    "\n",
    "（3）与众多NLPer、PaddleNLP工程师交流最新技术\n",
    "\n",
    "<img src=\"https://ai-studio-static-online.cdn.bcebos.com/f19aa7fd3cb44638900c8c723aa4c51d38ad6557e4764408aa8da1d435436e06\" width=\"200px\" height=\"200px\" >"
   ]
  }
 ],
 "metadata": {
  "kernelspec": {
   "display_name": "Python 3",
   "language": "python",
   "name": "py35-paddle1.2.0"
  },
  "language_info": {
   "codemirror_mode": {
    "name": "ipython",
    "version": 3
   },
   "file_extension": ".py",
   "mimetype": "text/x-python",
   "name": "python",
   "nbconvert_exporter": "python",
   "pygments_lexer": "ipython3",
   "version": "3.7.4"
  }
 },
 "nbformat": 4,
 "nbformat_minor": 4
}
